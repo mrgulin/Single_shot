{
 "cells": [
  {
   "cell_type": "code",
   "execution_count": 17,
   "metadata": {
    "collapsed": true
   },
   "outputs": [],
   "source": [
    "import lpfet\n",
    "import numpy as np\n",
    "import Quant_NBody"
   ]
  },
  {
   "cell_type": "code",
   "execution_count": 18,
   "outputs": [
    {
     "name": "stdout",
     "output_type": "stream",
     "text": [
      "\n",
      "\t ===========================================\n",
      "\t ====  The matrix form of a^a is built  ====\n",
      "\t ===========================================\n"
     ]
    }
   ],
   "source": [
    "\n",
    "x = np.arange(0.05, 2.1, 0.2)\n",
    "mol1 = lpfet.Molecule(6,6, '_6ring2sites_v2')\n",
    "\n",
    "pmv = 0.5\n",
    "t, v_ext, u = lpfet.generate_from_graph(\n",
    "    {0: {'v': -pmv, 'U': 1}, 1: {'v': pmv, 'U': 1}, 2: {'v': pmv, 'U': 1}, 3: {'v': -pmv, 'U': 1},\n",
    "     4: {'v': pmv, 'U': 1}, 5: {'v': pmv, 'U': 1}},\n",
    "    {(0, 1): 1, (1, 2): 1, (2, 3): 1, (3, 4): 1, (4, 5): 1, (0, 5): 1})\n",
    "mol1.add_parameters(u, t, v_ext, [[0, 3], [1, 2, 4, 5]])"
   ],
   "metadata": {
    "collapsed": false,
    "pycharm": {
     "name": "#%%\n"
    }
   }
  },
  {
   "cell_type": "code",
   "execution_count": 19,
   "outputs": [],
   "source": [
    "mol1.calculate_ks()"
   ],
   "metadata": {
    "collapsed": false,
    "pycharm": {
     "name": "#%%\n"
    }
   }
  },
  {
   "cell_type": "code",
   "execution_count": 20,
   "outputs": [
    {
     "data": {
      "text/plain": "array([0.64433757, 0.42783122, 0.42783122, 0.64433757, 0.42783122,\n       0.42783122])"
     },
     "execution_count": 20,
     "metadata": {},
     "output_type": "execute_result"
    }
   ],
   "source": [
    "mol1.n_ks"
   ],
   "metadata": {
    "collapsed": false,
    "pycharm": {
     "name": "#%%\n"
    }
   }
  },
  {
   "cell_type": "code",
   "execution_count": 41,
   "outputs": [
    {
     "name": "stdout",
     "output_type": "stream",
     "text": [
      "0 0.8303418012614793 0.644337567297407\n",
      "1 0.36607909936926003 0.4278312163512964\n"
     ]
    }
   ],
   "source": [
    "project_whole_ext_potential = True\n",
    "for site_group in mol1.equiv_atom_groups.keys():\n",
    "    site_id = mol1.equiv_atom_groups[site_group][0]\n",
    "\n",
    "\n",
    "    y_a_correct_imp = lpfet.change_indices(mol1.y_a, site_id)\n",
    "    t_correct_imp = lpfet.change_indices(mol1.t, site_id)\n",
    "    v_ext_correct_imp = lpfet.change_indices(mol1.v_ext, site_id)\n",
    "\n",
    "    P, v = Quant_NBody.Householder_transformation(y_a_correct_imp)\n",
    "    if project_whole_ext_potential:\n",
    "        h_tilde = P @ (t_correct_imp + np.diag(v_ext_correct_imp)) @ P\n",
    "        h_tilde_dimer = h_tilde[:2, :2]\n",
    "    else:\n",
    "        h_tilde = P @ (t_correct_imp ) @ P\n",
    "        h_tilde_dimer = h_tilde[:2, :2]\n",
    "        h_tilde_dimer[0,0] += mol1.v_ext[site_id]\n",
    "    u_0_dimer = np.zeros((2, 2, 2, 2), dtype=np.float64)\n",
    "    # u_0_dimer[0, 0, 0, 0] += mol1.u[site_id]\n",
    "    mu_imp = mol1.mu_hxc[[site_id]]  # Double parenthesis so I keep array, in future this will be list of\n",
    "    # indices for block householder\n",
    "    print(site_id, lpfet.cost_function_CASCI(np.array([0]), mol1.embedded_mol, h_tilde_dimer, u_0_dimer, 0)*2, mol1.n_ks[site_id])"
   ],
   "metadata": {
    "collapsed": false,
    "pycharm": {
     "name": "#%%\n"
    }
   }
  },
  {
   "cell_type": "code",
   "execution_count": 33,
   "outputs": [
    {
     "data": {
      "text/plain": "array([ 0.5, -0.5,  0.5, -0.5,  0.5,  0.5])"
     },
     "execution_count": 33,
     "metadata": {},
     "output_type": "execute_result"
    }
   ],
   "source": [
    "v_ext_correct_imp\n",
    "\n"
   ],
   "metadata": {
    "collapsed": false,
    "pycharm": {
     "name": "#%%\n"
    }
   }
  }
 ],
 "metadata": {
  "kernelspec": {
   "display_name": "Python 3",
   "language": "python",
   "name": "python3"
  },
  "language_info": {
   "codemirror_mode": {
    "name": "ipython",
    "version": 2
   },
   "file_extension": ".py",
   "mimetype": "text/x-python",
   "name": "python",
   "nbconvert_exporter": "python",
   "pygments_lexer": "ipython2",
   "version": "2.7.6"
  }
 },
 "nbformat": 4,
 "nbformat_minor": 0
}