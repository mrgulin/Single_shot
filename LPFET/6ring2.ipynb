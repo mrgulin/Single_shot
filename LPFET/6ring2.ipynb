{
 "cells": [
  {
   "cell_type": "code",
   "execution_count": null,
   "id": "0264a065-f520-4434-a771-3c9097bf7c14",
   "metadata": {},
   "outputs": [],
   "source": [
    "import sys\n",
    "sys.path.append(r'C:\\Users\\tinc9\\Documents\\CNRS-offline')\n",
    "sys.path.append(r'C:\\Users\\tinc9\\Documents\\CNRS-offline\\quantum_main_project')\n",
    "import lpfet\n",
    "import numpy as np\n",
    "import matplotlib.pyplot as plt\n",
    "import essentials\n",
    "import seaborn as sns\n",
    "import matplotlib.colors as mcolors\n",
    "\n",
    "import matplotlib as mpl\n",
    "from mpl_toolkits.axes_grid1 import make_axes_locatable\n",
    "\n",
    "import importlib\n",
    "importlib.reload(lpfet)"
   ]
  },
  {
   "cell_type": "markdown",
   "id": "ea2a702a-3d58-433b-a76d-b6934a814685",
   "metadata": {
    "tags": []
   },
   "source": [
    "# 6 site ring with 2 atoms on opposite site\n",
    "\n",
    "```\n",
    "  o -- o\n",
    " /      \\\n",
    "x        x   \n",
    " \\      /\n",
    "  o -- o\n",
    "  \n",
    "```\n",
    "Potential on sites are +i for o and -i for x"
   ]
  },
  {
   "cell_type": "markdown",
   "id": "47a125b8-2de1-45de-84c9-35e5f610de6b",
   "metadata": {
    "tags": []
   },
   "source": [
    "# Reset of Hxc potential each cycle"
   ]
  },
  {
   "cell_type": "code",
   "execution_count": null,
   "id": "5e0c5d65-cd9f-4fbf-8c66-43a07fc449f5",
   "metadata": {
    "tags": []
   },
   "outputs": [],
   "source": [
    "x = np.arange(0.05, 2.1, 0.2)\n",
    "mol1 = lpfet.Molecule(6,6, '_6ring2sites_v2')\n",
    "mol_full = lpfet.class_Quant_NBody.QuantNBody(6, 6)\n",
    "mol_full.build_operator_a_dagger_a()\n",
    "y = []\n",
    "y_simple = []\n",
    "y_ref = []\n",
    "first = True\n",
    "for i in x:\n",
    "    if not first:\n",
    "        mol1.clear_object(\"_6ring2sites_v2\")\n",
    "    first = False\n",
    "    print('\\n', i, round(100 * i/max(x), 2), end='\\n')\n",
    "    pmv = i\n",
    "    t, v_ext, u = lpfet.generate_from_graph(\n",
    "        {0: {'v': -pmv, 'U': 1}, 1: {'v': pmv, 'U': 1}, 2: {'v': pmv, 'U': 1}, 3: {'v': -pmv, 'U': 1},\n",
    "         4: {'v': pmv, 'U': 1}, 5: {'v': pmv, 'U': 1}},\n",
    "        {(0, 1): 1, (1, 2): 1, (2, 3): 1, (3, 4): 1, (4, 5): 1, (0, 5): 1})\n",
    "    mol1.add_parameters(u, t, v_ext, [[0, 3], [1, 2, 4, 5]])\n",
    "    mol1.self_consistent_loop(num_iter=20, tolerance=0.000001)\n",
    "    \n",
    "    y.append(mol1.density_progress)\n",
    "    y_simple.append(mol1.n_ks)\n",
    "    y_ab, rest =mol1.compare_densities_FCI(pass_object=mol_full)\n",
    "    y_ab /= 2\n",
    "    y_ref.append(y_ab.diagonal())\n",
    "    "
   ]
  },
  {
   "cell_type": "code",
   "execution_count": null,
   "id": "b3a6affe-7280-4612-a42a-21b1821f8b06",
   "metadata": {},
   "outputs": [],
   "source": [
    "mol1.plot_hubbard_molecule()"
   ]
  },
  {
   "cell_type": "code",
   "execution_count": null,
   "id": "a60fee11-feb2-4cea-9fa7-c4cbaa5e430e",
   "metadata": {},
   "outputs": [],
   "source": [
    "for i in range(len(y)):\n",
    "    y[i] = np.array(y[i], dtype=float)\n",
    "y = np.array(y)\n",
    "y_ref = np.array(y_ref)\n",
    "y_simple = np.array(y_simple)"
   ]
  },
  {
   "cell_type": "code",
   "execution_count": null,
   "id": "ee2746ec-6f49-4de8-a70b-c60b5a2df802",
   "metadata": {},
   "outputs": [],
   "source": [
    "plt.plot(x, y_simple[:, 0], color='k')\n",
    "plt.plot(x, y_ref[:, 0], c='k', linestyle='dashed')\n",
    "plt.xlabel(\"v_ext\")\n",
    "plt.ylabel(\"occupation of site 0 and 3\")\n",
    "plt.savefig('results/6ring2_v5/occupation(v_ext).png', dpi=150)"
   ]
  },
  {
   "cell_type": "code",
   "execution_count": null,
   "id": "993440d2-3378-409a-b3a8-6851c5d03e1c",
   "metadata": {},
   "outputs": [],
   "source": [
    "colors = plt.cm.viridis(np.linspace(0, max(x), len(x)))\n",
    "norm = mpl.colors.Normalize(vmin=0, vmax=max(x))\n",
    "\n",
    "\n",
    "for x_i, regime in enumerate(y):\n",
    "    mu_ext = x[x_i]\n",
    "    length = len(regime)\n",
    "    x_data = np.linspace(-0.1, 0, length) + mu_ext\n",
    "    plt.plot(x_data, regime[:,0], color='#a7a7a7')\n",
    "\n",
    "plt.plot(x, y_simple[:, 0],  c='k')\n",
    "plt.plot(x, y_ref[:, 0],  c='k', linestyle='dashed')\n",
    "plt.xlabel(\"v_ext\")\n",
    "plt.ylabel(\"occupation of site 0 and 3\")\n",
    "plt.savefig('results/6ring2_v5/occupation(v_ext)_oscillation.png', dpi=150)\n",
    "plt.show()"
   ]
  },
  {
   "cell_type": "code",
   "execution_count": null,
   "id": "bc71f0cc-6524-4425-bd0d-1cd2ebd7a4cc",
   "metadata": {},
   "outputs": [],
   "source": [
    "norm = mpl.colors.Normalize(vmin=-0.05,  vmax=2.1)\n",
    "\n",
    "for x_i, regime in enumerate(y):\n",
    "    mu_ext = x[x_i]\n",
    "    length = len(regime)\n",
    "    plt.plot(regime[:,0], color=mpl.cm.viridis(norm(mu_ext)) )\n",
    "\n",
    "plt.xlabel(\"Iteration number\")\n",
    "plt.ylabel(\"occupation\")\n",
    "divider = make_axes_locatable(plt.gca())\n",
    "ax_cb = divider.new_horizontal(size=\"5%\", pad=0.05)    \n",
    "cb1 = mpl.colorbar.ColorbarBase(ax_cb, cmap=mpl.cm.viridis, orientation='vertical', norm=norm)\n",
    "plt.gcf().add_axes(ax_cb)\n",
    "plt.savefig('results/6ring2_v5/occupation(iter)_oscillations.png', dpi=150)"
   ]
  },
  {
   "cell_type": "markdown",
   "id": "3c94315c-db87-429b-a8b5-f036259e1fca",
   "metadata": {
    "tags": []
   },
   "source": [
    "# Not reseting external potential"
   ]
  },
  {
   "cell_type": "code",
   "execution_count": null,
   "id": "b27a0bc0-757e-4b8b-8ccf-263a8a7ebd16",
   "metadata": {
    "tags": []
   },
   "outputs": [],
   "source": [
    "x = np.arange(0.05, 2.1, 0.2)\n",
    "mol1 = lpfet.Molecule(6,6, '_6ring2sites_v2')\n",
    "mol_full = lpfet.class_Quant_NBody.QuantNBody(6, 6)\n",
    "mol_full.build_operator_a_dagger_a()\n",
    "y = []\n",
    "y_simple = []\n",
    "y_ref = []\n",
    "for i in x:\n",
    "    mol1.density_progress = []\n",
    "    print('\\n', i, round(100 * i/max(x), 2), end='\\n')\n",
    "    pmv = i\n",
    "    t, v_ext, u = lpfet.generate_from_graph(\n",
    "        {0: {'v': -pmv, 'U': 1}, 1: {'v': pmv, 'U': 1}, 2: {'v': pmv, 'U': 1}, 3: {'v': -pmv, 'U': 1},\n",
    "         4: {'v': pmv, 'U': 1}, 5: {'v': pmv, 'U': 1}},\n",
    "        {(0, 1): 1, (1, 2): 1, (2, 3): 1, (3, 4): 1, (4, 5): 1, (0, 5): 1})\n",
    "    mol1.add_parameters(u, t, v_ext, [[0, 3], [1, 2, 4, 5]])\n",
    "    mol1.self_consistent_loop(num_iter=20, tolerance=0.000001)\n",
    "    \n",
    "    y.append(mol1.density_progress)\n",
    "    y_simple.append(mol1.n_ks)\n",
    "    y_ab, rest =mol1.compare_densities_FCI(pass_object=mol_full)\n",
    "    y_ab /= 2\n",
    "    y_ref.append(y_ab.diagonal())\n",
    "    "
   ]
  },
  {
   "cell_type": "code",
   "execution_count": null,
   "id": "4c02087e-07c0-45c4-9f8c-8f027387093b",
   "metadata": {},
   "outputs": [],
   "source": [
    "for i in range(len(y)):\n",
    "    y[i] = np.array(y[i], dtype=float)\n",
    "y = np.array(y)\n",
    "y_ref = np.array(y_ref)\n",
    "y_simple = np.array(y_simple)"
   ]
  },
  {
   "cell_type": "code",
   "execution_count": null,
   "id": "9e9bc3e8-a9e6-436c-abd3-fd05ca866297",
   "metadata": {},
   "outputs": [],
   "source": [
    "plt.plot(x, y_simple[:, 0], color='k')\n",
    "plt.plot(x, y_ref[:, 0], c='k', linestyle='dashed')\n",
    "plt.xlabel(\"v_ext\")\n",
    "plt.ylabel(\"occupation of site 0 and 3\")\n",
    "plt.savefig('results/6ring2_v5/occupation(v_ext)_transfer-potential.png', dpi=150)"
   ]
  },
  {
   "cell_type": "code",
   "execution_count": null,
   "id": "ae51157d-3e66-45a2-9c78-5fe4cee3c6b3",
   "metadata": {},
   "outputs": [],
   "source": [
    "colors = plt.cm.viridis(np.linspace(0, max(x), len(x)))\n",
    "norm = mpl.colors.Normalize(vmin=0, vmax=max(x))\n",
    "\n",
    "\n",
    "for x_i, regime in enumerate(y):\n",
    "    mu_ext = x[x_i]\n",
    "    length = len(regime)\n",
    "    x_data = np.linspace(-0.1, 0, length) + mu_ext\n",
    "    plt.plot(x_data, regime[:,0], color='#a7a7a7')\n",
    "\n",
    "plt.plot(x, y_simple[:, 0],  c='k')\n",
    "plt.plot(x, y_ref[:, 0],  c='k', linestyle='dashed')\n",
    "plt.xlabel(\"v_ext\")\n",
    "plt.ylabel(\"occupation of site 0 and 3\")\n",
    "plt.savefig('results/6ring2_v5/occupation(v_ext)_oscillation_transfer-potential.png', dpi=150)\n",
    "plt.show()"
   ]
  },
  {
   "cell_type": "code",
   "execution_count": null,
   "id": "f21a61f0-2a24-4e57-8aa0-9b47b386fd94",
   "metadata": {},
   "outputs": [],
   "source": [
    "norm = mpl.colors.Normalize(vmin=-0.05,  vmax=2.1)\n",
    "\n",
    "for x_i, regime in enumerate(y):\n",
    "    mu_ext = x[x_i]\n",
    "    length = len(regime)\n",
    "    plt.plot(regime[:,0], color=mpl.cm.viridis(norm(mu_ext)) )\n",
    "\n",
    "plt.xlabel(\"Iteration number\")\n",
    "plt.ylabel(\"occupation\")\n",
    "divider = make_axes_locatable(plt.gca())\n",
    "ax_cb = divider.new_horizontal(size=\"5%\", pad=0.05)    \n",
    "cb1 = mpl.colorbar.ColorbarBase(ax_cb, cmap=mpl.cm.viridis, orientation='vertical', norm=norm)\n",
    "plt.gcf().add_axes(ax_cb)\n",
    "plt.savefig('results/6ring2_v5/occupation(iter)_oscillations_transfer-potential.png', dpi=150)"
   ]
  },
  {
   "cell_type": "markdown",
   "id": "14b6237e-37db-4f04-afc9-b5fae23d1f24",
   "metadata": {
    "tags": []
   },
   "source": [
    "# Finding stability of convergence based on initial parameters of Hxc chemical potential"
   ]
  },
  {
   "cell_type": "markdown",
   "id": "0b82dafc-7386-4bc2-8097-51e2576f63d5",
   "metadata": {
    "tags": []
   },
   "source": [
    "## v_ext = +- 1.0"
   ]
  },
  {
   "cell_type": "code",
   "execution_count": 52,
   "id": "d6bf95f4-3c58-4949-9f38-1c3dac3d34f6",
   "metadata": {
    "collapsed": true,
    "jupyter": {
     "outputs_hidden": true,
     "source_hidden": true
    },
    "tags": []
   },
   "outputs": [
    {
     "name": "stdout",
     "output_type": "stream",
     "text": [
      "Loop 10, Loop 11, Loop 12, Loop 13, Loop 14, Loop 15, Loop 16, Loop 17, Loop 18, Loop 19, -0.8999999999999999 1.5000000000000004 -8.18181818181818\n",
      "Loop 0, Loop 1, Loop 2, Loop 3, Loop 4, Loop 5, Loop 6, Loop 7, Loop 8, Loop 9, Loop 10, Loop 11, Loop 12, Loop 13, Loop 14, Loop 15, Loop 16, Loop 17, Loop 18, Loop 19, -0.5999999999999999 -1.5 -5.454545454545453\n",
      "Loop 0, Loop 1, Loop 2, Loop 3, Loop 4, Loop 5, Loop 6, Loop 7, Loop 8, Loop 9, Loop 10, Loop 11, Loop 12, Loop 13, Loop 14, Loop 15, Loop 16, Loop 17, Loop 18, Loop 19, -0.5999999999999999 -1.2 -5.454545454545453\n",
      "Loop 0, Loop 1, Loop 2, Loop 3, Loop 4, Loop 5, Loop 6, Loop 7, Loop 8, Loop 9, Loop 10, Loop 11, Loop 12, Loop 13, Loop 14, Loop 15, Loop 16, Loop 17, Loop 18, Loop 19, -0.5999999999999999 -0.8999999999999999 -5.454545454545453\n",
      "Loop 0, Loop 1, Loop 2, Loop 3, -0.5999999999999999 -0.5999999999999999 -5.454545454545453\n",
      "Loop 0, Loop 1, Loop 2, -0.5999999999999999 -0.2999999999999998 -5.454545454545453\n",
      "Loop 0, Loop 1, -0.5999999999999999 2.220446049250313e-16 -5.454545454545453\n",
      "Loop 0, Loop 1, Loop 2, Loop 3, -0.5999999999999999 0.30000000000000027 -5.454545454545453\n",
      "Loop 0, Loop 1, Loop 2, Loop 3, Loop 4, Loop 5, Loop 6, Loop 7, Loop 8, Loop 9, Loop 10, Loop 11, Loop 12, Loop 13, Loop 14, Loop 15, Loop 16, Loop 17, Loop 18, Loop 19, -0.5999999999999999 0.6000000000000005 -5.454545454545453\n",
      "Loop 0, Loop 1, Loop 2, Loop 3, Loop 4, Loop 5, Loop 6, Loop 7, Loop 8, Loop 9, Loop 10, Loop 11, Loop 12, Loop 13, Loop 14, Loop 15, Loop 16, Loop 17, Loop 18, Loop 19, -0.5999999999999999 0.9000000000000004 -5.454545454545453\n",
      "Loop 0, Loop 1, Loop 2, Loop 3, Loop 4, Loop 5, Loop 6, Loop 7, Loop 8, Loop 9, Loop 10, Loop 11, Loop 12, Loop 13, Loop 14, Loop 15, Loop 16, Loop 17, Loop 18, Loop 19, -0.5999999999999999 1.2000000000000002 -5.454545454545453\n",
      "Loop 0, Loop 1, Loop 2, Loop 3, Loop 4, Loop 5, Loop 6, Loop 7, Loop 8, Loop 9, Loop 10, Loop 11, Loop 12, Loop 13, Loop 14, Loop 15, Loop 16, Loop 17, Loop 18, Loop 19, -0.5999999999999999 1.5000000000000004 -5.454545454545453\n",
      "Loop 0, Loop 1, Loop 2, Loop 3, Loop 4, Loop 5, Loop 6, Loop 7, Loop 8, Loop 9, Loop 10, Loop 11, Loop 12, Loop 13, Loop 14, Loop 15, Loop 16, Loop 17, Loop 18, Loop 19, -0.2999999999999998 -1.5 -2.7272727272727257\n",
      "Loop 0, Loop 1, Loop 2, Loop 3, Loop 4, Loop 5, Loop 6, Loop 7, Loop 8, Loop 9, Loop 10, Loop 11, Loop 12, Loop 13, Loop 14, Loop 15, Loop 16, Loop 17, Loop 18, Loop 19, -0.2999999999999998 -1.2 -2.7272727272727257\n",
      "Loop 0, Loop 1, Loop 2, Loop 3, Loop 4, Loop 5, Loop 6, Loop 7, Loop 8, Loop 9, Loop 10, Loop 11, Loop 12, Loop 13, Loop 14, Loop 15, Loop 16, Loop 17, Loop 18, Loop 19, -0.2999999999999998 -0.8999999999999999 -2.7272727272727257\n",
      "Loop 0, Loop 1, Loop 2, Loop 3, Loop 4, Loop 5, Loop 6, Loop 7, Loop 8, Loop 9, Loop 10, Loop 11, Loop 12, Loop 13, Loop 14, Loop 15, Loop 16, Loop 17, Loop 18, Loop 19, -0.2999999999999998 -0.5999999999999999 -2.7272727272727257\n",
      "Loop 0, Loop 1, Loop 2, Loop 3, Loop 4, Loop 5, Loop 6, Loop 7, Loop 8, Loop 9, Loop 10, Loop 11, Loop 12, Loop 13, Loop 14, Loop 15, Loop 16, Loop 17, Loop 18, Loop 19, -0.2999999999999998 -0.2999999999999998 -2.7272727272727257\n",
      "Loop 0, Loop 1, Loop 2, -0.2999999999999998 2.220446049250313e-16 -2.7272727272727257\n",
      "Loop 0, Loop 1, Loop 2, Loop 3, -0.2999999999999998 0.30000000000000027 -2.7272727272727257\n",
      "Loop 0, Loop 1, Loop 2, Loop 3, Loop 4, Loop 5, Loop 6, Loop 7, Loop 8, Loop 9, Loop 10, Loop 11, Loop 12, Loop 13, Loop 14, Loop 15, Loop 16, Loop 17, Loop 18, Loop 19, -0.2999999999999998 0.6000000000000005 -2.7272727272727257\n",
      "Loop 0, Loop 1, Loop 2, Loop 3, Loop 4, Loop 5, Loop 6, Loop 7, Loop 8, Loop 9, Loop 10, Loop 11, Loop 12, Loop 13, Loop 14, Loop 15, Loop 16, Loop 17, Loop 18, Loop 19, -0.2999999999999998 0.9000000000000004 -2.7272727272727257\n",
      "Loop 0, Loop 1, Loop 2, Loop 3, Loop 4, Loop 5, Loop 6, Loop 7, Loop 8, Loop 9, Loop 10, Loop 11, Loop 12, Loop 13, Loop 14, Loop 15, Loop 16, Loop 17, Loop 18, Loop 19, -0.2999999999999998 1.2000000000000002 -2.7272727272727257\n",
      "Loop 0, Loop 1, Loop 2, Loop 3, Loop 4, Loop 5, Loop 6, Loop 7, Loop 8, Loop 9, Loop 10, Loop 11, Loop 12, Loop 13, Loop 14, Loop 15, Loop 16, Loop 17, Loop 18, Loop 19, -0.2999999999999998 1.5000000000000004 -2.7272727272727257\n",
      "Loop 0, Loop 1, Loop 2, Loop 3, Loop 4, Loop 5, Loop 6, Loop 7, Loop 8, Loop 9, Loop 10, Loop 11, Loop 12, Loop 13, Loop 14, Loop 15, Loop 16, Loop 17, Loop 18, Loop 19, 2.220446049250313e-16 -1.5 2.0185873175002848e-15\n",
      "Loop 0, Loop 1, Loop 2, Loop 3, Loop 4, Loop 5, Loop 6, Loop 7, Loop 8, Loop 9, Loop 10, Loop 11, Loop 12, Loop 13, Loop 14, Loop 15, Loop 16, Loop 17, Loop 18, Loop 19, 2.220446049250313e-16 -1.2 2.0185873175002848e-15\n",
      "Loop 0, Loop 1, Loop 2, Loop 3, Loop 4, Loop 5, Loop 6, Loop 7, Loop 8, Loop 9, Loop 10, Loop 11, Loop 12, Loop 13, Loop 14, Loop 15, Loop 16, Loop 17, Loop 18, Loop 19, 2.220446049250313e-16 -0.8999999999999999 2.0185873175002848e-15\n",
      "Loop 0, Loop 1, Loop 2, Loop 3, Loop 4, Loop 5, Loop 6, Loop 7, Loop 8, Loop 9, Loop 10, Loop 11, Loop 12, Loop 13, Loop 14, Loop 15, Loop 16, Loop 17, Loop 18, Loop 19, 2.220446049250313e-16 -0.5999999999999999 2.0185873175002848e-15\n",
      "Loop 0, Loop 1, Loop 2, Loop 3, Loop 4, Loop 5, Loop 6, Loop 7, Loop 8, Loop 9, Loop 10, Loop 11, Loop 12, Loop 13, Loop 14, Loop 15, Loop 16, Loop 17, Loop 18, Loop 19, 2.220446049250313e-16 -0.2999999999999998 2.0185873175002848e-15\n",
      "Loop 0, Loop 1, Loop 2, Loop 3, Loop 4, Loop 5, Loop 6, Loop 7, Loop 8, Loop 9, Loop 10, Loop 11, Loop 12, Loop 13, Loop 14, Loop 15, Loop 16, Loop 17, Loop 18, Loop 19, 2.220446049250313e-16 2.220446049250313e-16 2.0185873175002848e-15\n",
      "Loop 0, Loop 1, Loop 2, Loop 3, 2.220446049250313e-16 0.30000000000000027 2.0185873175002848e-15\n",
      "Loop 0, Loop 1, Loop 2, Loop 3, Loop 4, Loop 5, Loop 6, Loop 7, Loop 8, Loop 9, Loop 10, Loop 11, Loop 12, Loop 13, Loop 14, Loop 15, Loop 16, Loop 17, Loop 18, Loop 19, 2.220446049250313e-16 0.6000000000000005 2.0185873175002848e-15\n",
      "Loop 0, Loop 1, Loop 2, Loop 3, Loop 4, Loop 5, Loop 6, Loop 7, Loop 8, Loop 9, Loop 10, Loop 11, Loop 12, Loop 13, Loop 14, Loop 15, Loop 16, Loop 17, Loop 18, Loop 19, 2.220446049250313e-16 0.9000000000000004 2.0185873175002848e-15\n",
      "Loop 0, Loop 1, Loop 2, Loop 3, Loop 4, Loop 5, Loop 6, Loop 7, Loop 8, Loop 9, Loop 10, Loop 11, Loop 12, Loop 13, Loop 14, Loop 15, Loop 16, Loop 17, Loop 18, Loop 19, 2.220446049250313e-16 1.2000000000000002 2.0185873175002848e-15\n",
      "Loop 0, Loop 1, Loop 2, Loop 3, Loop 4, Loop 5, Loop 6, Loop 7, Loop 8, Loop 9, Loop 10, Loop 11, Loop 12, Loop 13, Loop 14, Loop 15, Loop 16, Loop 17, Loop 18, Loop 19, 2.220446049250313e-16 1.5000000000000004 2.0185873175002848e-15\n",
      "Loop 0, Loop 1, Loop 2, Loop 3, Loop 4, Loop 5, Loop 6, Loop 7, Loop 8, Loop 9, Loop 10, Loop 11, Loop 12, Loop 13, Loop 14, Loop 15, Loop 16, Loop 17, Loop 18, Loop 19, 0.30000000000000027 -1.5 2.7272727272727297\n",
      "Loop 0, Loop 1, Loop 2, Loop 3, Loop 4, Loop 5, Loop 6, Loop 7, Loop 8, Loop 9, Loop 10, Loop 11, Loop 12, Loop 13, Loop 14, Loop 15, Loop 16, Loop 17, Loop 18, Loop 19, 0.30000000000000027 -1.2 2.7272727272727297\n",
      "Loop 0, Loop 1, Loop 2, Loop 3, Loop 4, Loop 5, Loop 6, Loop 7, Loop 8, Loop 9, Loop 10, Loop 11, Loop 12, Loop 13, Loop 14, Loop 15, Loop 16, Loop 17, Loop 18, Loop 19, 0.30000000000000027 -0.8999999999999999 2.7272727272727297\n",
      "Loop 0, Loop 1, Loop 2, Loop 3, Loop 4, Loop 5, Loop 6, Loop 7, Loop 8, Loop 9, Loop 10, Loop 11, Loop 12, Loop 13, Loop 14, Loop 15, Loop 16, Loop 17, Loop 18, Loop 19, 0.30000000000000027 -0.5999999999999999 2.7272727272727297\n",
      "Loop 0, Loop 1, Loop 2, Loop 3, Loop 4, Loop 5, Loop 6, Loop 7, Loop 8, Loop 9, Loop 10, Loop 11, Loop 12, Loop 13, Loop 14, Loop 15, Loop 16, Loop 17, Loop 18, Loop 19, 0.30000000000000027 -0.2999999999999998 2.7272727272727297\n",
      "Loop 0, Loop 1, Loop 2, Loop 3, Loop 4, Loop 5, Loop 6, Loop 7, Loop 8, Loop 9, Loop 10, Loop 11, Loop 12, Loop 13, Loop 14, Loop 15, Loop 16, Loop 17, Loop 18, Loop 19, 0.30000000000000027 2.220446049250313e-16 2.7272727272727297\n",
      "Loop 0, Loop 1, Loop 2, Loop 3, Loop 4, Loop 5, Loop 6, Loop 7, Loop 8, Loop 9, Loop 10, Loop 11, Loop 12, Loop 13, Loop 14, Loop 15, Loop 16, Loop 17, Loop 18, Loop 19, 0.30000000000000027 0.30000000000000027 2.7272727272727297\n",
      "Loop 0, Loop 1, Loop 2, 0.30000000000000027 0.6000000000000005 2.7272727272727297\n",
      "Loop 0, Loop 1, Loop 2, Loop 3, Loop 4, 0.30000000000000027 0.9000000000000004 2.7272727272727297\n",
      "Loop 0, Loop 1, Loop 2, Loop 3, Loop 4, Loop 5, Loop 6, Loop 7, Loop 8, Loop 9, Loop 10, Loop 11, Loop 12, Loop 13, Loop 14, Loop 15, Loop 16, Loop 17, Loop 18, Loop 19, 0.30000000000000027 1.2000000000000002 2.7272727272727297\n",
      "Loop 0, Loop 1, Loop 2, Loop 3, Loop 4, Loop 5, Loop 6, Loop 7, Loop 8, Loop 9, Loop 10, Loop 11, Loop 12, Loop 13, Loop 14, Loop 15, Loop 16, Loop 17, Loop 18, Loop 19, 0.30000000000000027 1.5000000000000004 2.7272727272727297\n",
      "Loop 0, Loop 1, Loop 2, Loop 3, Loop 4, Loop 5, Loop 6, Loop 7, Loop 8, Loop 9, Loop 10, Loop 11, Loop 12, Loop 13, Loop 14, Loop 15, Loop 16, Loop 17, Loop 18, Loop 19, 0.6000000000000005 -1.5 5.4545454545454595\n",
      "Loop 0, Loop 1, Loop 2, Loop 3, Loop 4, Loop 5, Loop 6, Loop 7, Loop 8, Loop 9, Loop 10, Loop 11, Loop 12, Loop 13, Loop 14, Loop 15, Loop 16, Loop 17, Loop 18, Loop 19, 0.6000000000000005 -1.2 5.4545454545454595\n",
      "Loop 0, Loop 1, Loop 2, Loop 3, Loop 4, Loop 5, Loop 6, Loop 7, Loop 8, Loop 9, Loop 10, Loop 11, Loop 12, Loop 13, Loop 14, Loop 15, Loop 16, Loop 17, Loop 18, Loop 19, 0.6000000000000005 -0.8999999999999999 5.4545454545454595\n",
      "Loop 0, Loop 1, Loop 2, Loop 3, Loop 4, Loop 5, Loop 6, Loop 7, Loop 8, Loop 9, Loop 10, Loop 11, Loop 12, Loop 13, Loop 14, Loop 15, Loop 16, Loop 17, Loop 18, Loop 19, 0.6000000000000005 -0.5999999999999999 5.4545454545454595\n",
      "Loop 0, Loop 1, Loop 2, Loop 3, Loop 4, Loop 5, Loop 6, Loop 7, Loop 8, Loop 9, Loop 10, Loop 11, Loop 12, Loop 13, Loop 14, Loop 15, Loop 16, Loop 17, Loop 18, Loop 19, 0.6000000000000005 -0.2999999999999998 5.4545454545454595\n",
      "Loop 0, Loop 1, Loop 2, Loop 3, Loop 4, Loop 5, Loop 6, Loop 7, Loop 8, Loop 9, Loop 10, Loop 11, Loop 12, Loop 13, Loop 14, Loop 15, Loop 16, Loop 17, Loop 18, Loop 19, 0.6000000000000005 2.220446049250313e-16 5.4545454545454595\n",
      "Loop 0, Loop 1, Loop 2, Loop 3, Loop 4, Loop 5, Loop 6, Loop 7, Loop 8, Loop 9, Loop 10, Loop 11, Loop 12, Loop 13, Loop 14, Loop 15, Loop 16, Loop 17, Loop 18, Loop 19, 0.6000000000000005 0.30000000000000027 5.4545454545454595\n",
      "Loop 0, Loop 1, Loop 2, Loop 3, Loop 4, Loop 5, Loop 6, Loop 7, Loop 8, Loop 9, Loop 10, Loop 11, Loop 12, Loop 13, Loop 14, Loop 15, Loop 16, Loop 17, Loop 18, Loop 19, 0.6000000000000005 0.6000000000000005 5.4545454545454595\n",
      "Loop 0, Loop 1, Loop 2, 0.6000000000000005 0.9000000000000004 5.4545454545454595\n",
      "Loop 0, Loop 1, Loop 2, Loop 3, 0.6000000000000005 1.2000000000000002 5.4545454545454595\n",
      "Loop 0, Loop 1, Loop 2, Loop 3, Loop 4, Loop 5, Loop 6, Loop 7, Loop 8, Loop 9, Loop 10, Loop 11, Loop 12, Loop 13, Loop 14, Loop 15, Loop 16, Loop 17, Loop 18, Loop 19, 0.6000000000000005 1.5000000000000004 5.4545454545454595\n",
      "Loop 0, Loop 1, Loop 2, Loop 3, Loop 4, Loop 5, Loop 6, Loop 7, Loop 8, Loop 9, Loop 10, Loop 11, Loop 12, Loop 13, Loop 14, Loop 15, Loop 16, Loop 17, Loop 18, Loop 19, 0.9000000000000004 -1.5 8.181818181818185\n",
      "Loop 0, Loop 1, Loop 2, Loop 3, Loop 4, Loop 5, Loop 6, Loop 7, Loop 8, Loop 9, Loop 10, Loop 11, Loop 12, Loop 13, Loop 14, Loop 15, Loop 16, Loop 17, Loop 18, Loop 19, 0.9000000000000004 -1.2 8.181818181818185\n",
      "Loop 0, Loop 1, Loop 2, Loop 3, Loop 4, Loop 5, Loop 6, Loop 7, Loop 8, Loop 9, Loop 10, Loop 11, Loop 12, Loop 13, Loop 14, Loop 15, Loop 16, Loop 17, Loop 18, Loop 19, 0.9000000000000004 -0.8999999999999999 8.181818181818185\n",
      "Loop 0, Loop 1, Loop 2, Loop 3, Loop 4, Loop 5, Loop 6, Loop 7, Loop 8, Loop 9, Loop 10, Loop 11, Loop 12, Loop 13, Loop 14, Loop 15, Loop 16, Loop 17, Loop 18, Loop 19, 0.9000000000000004 -0.5999999999999999 8.181818181818185\n",
      "Loop 0, Loop 1, Loop 2, Loop 3, Loop 4, Loop 5, Loop 6, Loop 7, Loop 8, Loop 9, Loop 10, Loop 11, Loop 12, Loop 13, Loop 14, Loop 15, Loop 16, Loop 17, Loop 18, Loop 19, 0.9000000000000004 -0.2999999999999998 8.181818181818185\n",
      "Loop 0, Loop 1, Loop 2, Loop 3, Loop 4, Loop 5, Loop 6, Loop 7, Loop 8, Loop 9, Loop 10, Loop 11, Loop 12, Loop 13, Loop 14, Loop 15, Loop 16, Loop 17, Loop 18, Loop 19, 0.9000000000000004 2.220446049250313e-16 8.181818181818185\n",
      "Loop 0, Loop 1, Loop 2, Loop 3, Loop 4, Loop 5, Loop 6, Loop 7, Loop 8, Loop 9, Loop 10, Loop 11, Loop 12, Loop 13, Loop 14, Loop 15, Loop 16, Loop 17, Loop 18, Loop 19, 0.9000000000000004 0.30000000000000027 8.181818181818185\n",
      "Loop 0, Loop 1, Loop 2, Loop 3, Loop 4, Loop 5, Loop 6, Loop 7, Loop 8, Loop 9, Loop 10, Loop 11, Loop 12, Loop 13, Loop 14, Loop 15, Loop 16, Loop 17, Loop 18, Loop 19, 0.9000000000000004 0.6000000000000005 8.181818181818185\n",
      "Loop 0, Loop 1, Loop 2, 0.9000000000000004 0.9000000000000004 8.181818181818185\n",
      "Loop 0, Loop 1, Loop 2, 0.9000000000000004 1.2000000000000002 8.181818181818185\n",
      "Loop 0, Loop 1, Loop 2, 0.9000000000000004 1.5000000000000004 8.181818181818185\n",
      "Loop 0, Loop 1, Loop 2, Loop 3, Loop 4, Loop 5, Loop 6, Loop 7, Loop 8, Loop 9, Loop 10, Loop 11, Loop 12, Loop 13, Loop 14, Loop 15, Loop 16, Loop 17, Loop 18, Loop 19, 1.2000000000000002 -1.5 10.90909090909091\n",
      "Loop 0, Loop 1, Loop 2, Loop 3, Loop 4, Loop 5, Loop 6, Loop 7, Loop 8, Loop 9, Loop 10, Loop 11, Loop 12, Loop 13, Loop 14, Loop 15, Loop 16, Loop 17, Loop 18, Loop 19, 1.2000000000000002 -1.2 10.90909090909091\n",
      "Loop 0, Loop 1, Loop 2, Loop 3, Loop 4, Loop 5, Loop 6, Loop 7, Loop 8, Loop 9, Loop 10, Loop 11, Loop 12, Loop 13, Loop 14, Loop 15, Loop 16, Loop 17, Loop 18, Loop 19, 1.2000000000000002 -0.8999999999999999 10.90909090909091\n",
      "Loop 0, Loop 1, Loop 2, Loop 3, Loop 4, Loop 5, Loop 6, Loop 7, Loop 8, Loop 9, Loop 10, Loop 11, Loop 12, Loop 13, Loop 14, Loop 15, Loop 16, Loop 17, Loop 18, Loop 19, 1.2000000000000002 -0.5999999999999999 10.90909090909091\n",
      "Loop 0, Loop 1, Loop 2, Loop 3, Loop 4, Loop 5, Loop 6, Loop 7, Loop 8, Loop 9, Loop 10, Loop 11, Loop 12, Loop 13, Loop 14, Loop 15, Loop 16, Loop 17, Loop 18, Loop 19, 1.2000000000000002 -0.2999999999999998 10.90909090909091\n",
      "Loop 0, Loop 1, Loop 2, Loop 3, Loop 4, Loop 5, Loop 6, Loop 7, Loop 8, Loop 9, Loop 10, Loop 11, Loop 12, Loop 13, Loop 14, Loop 15, Loop 16, Loop 17, Loop 18, Loop 19, 1.2000000000000002 2.220446049250313e-16 10.90909090909091\n",
      "Loop 0, Loop 1, Loop 2, Loop 3, Loop 4, Loop 5, Loop 6, Loop 7, Loop 8, Loop 9, Loop 10, Loop 11, Loop 12, Loop 13, Loop 14, Loop 15, Loop 16, Loop 17, Loop 18, Loop 19, 1.2000000000000002 0.30000000000000027 10.90909090909091\n",
      "Loop 0, Loop 1, Loop 2, Loop 3, Loop 4, Loop 5, Loop 6, Loop 7, Loop 8, Loop 9, Loop 10, Loop 11, Loop 12, Loop 13, Loop 14, Loop 15, Loop 16, Loop 17, Loop 18, Loop 19, 1.2000000000000002 0.6000000000000005 10.90909090909091\n",
      "Loop 0, Loop 1, Loop 2, Loop 3, Loop 4, Loop 5, Loop 6, Loop 7, Loop 8, Loop 9, Loop 10, Loop 11, Loop 12, Loop 13, Loop 14, Loop 15, Loop 16, Loop 17, Loop 18, Loop 19, 1.2000000000000002 0.9000000000000004 10.90909090909091\n",
      "Loop 0, Loop 1, Loop 2, Loop 3, 1.2000000000000002 1.2000000000000002 10.90909090909091\n",
      "Loop 0, Loop 1, Loop 2, Loop 3, 1.2000000000000002 1.5000000000000004 10.90909090909091\n",
      "Loop 0, Loop 1, Loop 2, Loop 3, 1.5000000000000004 -1.5 13.636363636363642\n",
      "Loop 0, Loop 1, Loop 2, Loop 3, Loop 4, Loop 5, Loop 6, Loop 7, Loop 8, Loop 9, Loop 10, Loop 11, Loop 12, Loop 13, Loop 14, Loop 15, Loop 16, Loop 17, Loop 18, Loop 19, 1.5000000000000004 -1.2 13.636363636363642\n",
      "Loop 0, Loop 1, Loop 2, Loop 3, Loop 4, Loop 5, Loop 6, Loop 7, Loop 8, Loop 9, Loop 10, Loop 11, Loop 12, Loop 13, Loop 14, Loop 15, Loop 16, Loop 17, Loop 18, Loop 19, 1.5000000000000004 -0.8999999999999999 13.636363636363642\n",
      "Loop 0, Loop 1, Loop 2, Loop 3, Loop 4, Loop 5, Loop 6, Loop 7, Loop 8, Loop 9, Loop 10, Loop 11, Loop 12, Loop 13, Loop 14, Loop 15, Loop 16, Loop 17, Loop 18, Loop 19, 1.5000000000000004 -0.5999999999999999 13.636363636363642\n",
      "Loop 0, Loop 1, Loop 2, Loop 3, Loop 4, Loop 5, Loop 6, Loop 7, Loop 8, Loop 9, Loop 10, Loop 11, Loop 12, Loop 13, Loop 14, Loop 15, Loop 16, Loop 17, Loop 18, Loop 19, 1.5000000000000004 -0.2999999999999998 13.636363636363642\n",
      "Loop 0, Loop 1, Loop 2, Loop 3, Loop 4, Loop 5, Loop 6, Loop 7, Loop 8, Loop 9, Loop 10, Loop 11, Loop 12, Loop 13, Loop 14, Loop 15, Loop 16, Loop 17, Loop 18, Loop 19, 1.5000000000000004 2.220446049250313e-16 13.636363636363642\n",
      "Loop 0, Loop 1, Loop 2, Loop 3, Loop 4, Loop 5, Loop 6, Loop 7, Loop 8, Loop 9, Loop 10, Loop 11, Loop 12, Loop 13, Loop 14, Loop 15, Loop 16, Loop 17, Loop 18, Loop 19, 1.5000000000000004 0.30000000000000027 13.636363636363642\n",
      "Loop 0, Loop 1, Loop 2, Loop 3, Loop 4, Loop 5, Loop 6, Loop 7, Loop 8, Loop 9, Loop 10, Loop 11, Loop 12, Loop 13, Loop 14, Loop 15, Loop 16, Loop 17, Loop 18, Loop 19, 1.5000000000000004 0.6000000000000005 13.636363636363642\n",
      "Loop 0, Loop 1, Loop 2, Loop 3, Loop 4, Loop 5, Loop 6, Loop 7, Loop 8, Loop 9, Loop 10, Loop 11, Loop 12, Loop 13, Loop 14, Loop 15, Loop 16, Loop 17, Loop 18, Loop 19, 1.5000000000000004 0.9000000000000004 13.636363636363642\n",
      "Loop 0, Loop 1, Loop 2, Loop 3, Loop 4, Loop 5, Loop 6, Loop 7, Loop 8, Loop 9, Loop 10, Loop 11, Loop 12, Loop 13, Loop 14, Loop 15, Loop 16, Loop 17, Loop 18, Loop 19, 1.5000000000000004 1.2000000000000002 13.636363636363642\n",
      "Loop 0, Loop 1, Loop 2, Loop 3, Loop 4, Loop 5, 1.5000000000000004 1.5000000000000004 13.636363636363642\n",
      "Loop 0, Loop 1, Loop 2, FCI densities (per spin): [0.72411653 0.38794174 0.38794174 0.72411653 0.38794174 0.38794174]\n"
     ]
    }
   ],
   "source": [
    "x = np.arange(-1.5, 1.6, 0.3)\n",
    "mol1 = lpfet.Molecule(6,6, '_6ring2sites_v3')\n",
    "mol_full = lpfet.class_Quant_NBody.QuantNBody(6, 6)\n",
    "mol_full.build_operator_a_dagger_a()\n",
    "n = []\n",
    "n_ref = []\n",
    "iter_num = []\n",
    "pmv = 1\n",
    "first = True\n",
    "for i in x:\n",
    "    n.append([])\n",
    "    n_ref.append([])\n",
    "    iter_num.append([])\n",
    "    for j in x:\n",
    "        if not first:\n",
    "            mol1.clear_object(\"_6ring2sites_v2\")\n",
    "        first = False\n",
    "        print(i, j, 100 * i/len(x))\n",
    "        t, v_ext, u = lpfet.generate_from_graph(\n",
    "            {0: {'v': -pmv, 'U': 1}, 1: {'v': pmv, 'U': 1}, 2: {'v': pmv, 'U': 1}, 3: {'v': -pmv, 'U': 1},\n",
    "             4: {'v': pmv, 'U': 1}, 5: {'v': pmv, 'U': 1}},\n",
    "            {(0, 1): 1, (1, 2): 1, (2, 3): 1, (3, 4): 1, (4, 5): 1, (0, 5): 1})\n",
    "        mol1.add_parameters(u, t, v_ext, [[0, 3], [1, 2, 4, 5]])\n",
    "        mol1.mu_hxc = np.array([i, j, j, i, j, j])\n",
    "        iter_num[-1].append(mol1.self_consistent_loop(num_iter=20, tolerance=0.000001))\n",
    "        n[-1].append(mol1.n_ks[0])\n",
    "y_ab, rest =mol1.compare_densities_FCI(pass_object=mol_full)\n",
    "y_ab /= 2\n",
    "n_ref = y_ab.diagonal()"
   ]
  },
  {
   "cell_type": "code",
   "execution_count": 53,
   "id": "81c6a5fc-630e-40f4-b2f2-63288cb04be8",
   "metadata": {
    "collapsed": true,
    "jupyter": {
     "outputs_hidden": true
    },
    "tags": []
   },
   "outputs": [
    {
     "data": {
      "text/plain": [
       "' '"
      ]
     },
     "execution_count": 53,
     "metadata": {},
     "output_type": "execute_result"
    },
    {
     "data": {
      "image/png": "[encoded data removed]",
      "text/plain": [
       "<Figure size 432x288 with 2 Axes>"
      ]
     },
     "metadata": {
      "needs_background": "light"
     },
     "output_type": "display_data"
    }
   ],
   "source": [
    "iter_num_exaggerated = np.array(iter_num).copy() + 1\n",
    "# iter_num_exaggerated[iter_num_exaggerated == 20 ] = np.nan\n",
    "# plt.imshow(iter_num_exaggerated, cmap='viridis', interpolation='nearest')\n",
    "# plt.colorbar()\n",
    "fig, ax = plt.subplots(1,1)\n",
    "ax.set_facecolor('k')\n",
    "sns.heatmap(iter_num_exaggerated, mask=(iter_num_exaggerated == 20), square=True, linewidths=0.01, linecolor='k', cmap='viridis');\n",
    "ax.set_facecolor('k')\n",
    "plt.title(f'Number of iterations\\n+-v_ext={pmv:.1f}')\n",
    "plt.gca().set_xticks(np.arange(len(x))+0.5)\n",
    "plt.gca().set_yticks(np.arange(len(x))+0.5)\n",
    "plt.yticks(rotation= 0)\n",
    "plt.gca().set_xticklabels([f'{i:.1f}' for i in x])\n",
    "plt.gca().set_yticklabels([f'{i:.1f}' for i in x])\n",
    "plt.xlabel('Starting potential mu_hxc of sites 1, 2, 4, 5')\n",
    "plt.ylabel('Starting potential mu_hxc of sites 0, 3')\n",
    "plt.savefig('results/6ring2_v5/changing-starting-hxc_iter-num_vext-1.png', dpi=150)\n",
    "' '\n"
   ]
  },
  {
   "cell_type": "code",
   "execution_count": 54,
   "id": "c6762410-1349-4864-b3e9-2ddf82e54087",
   "metadata": {
    "collapsed": true,
    "jupyter": {
     "outputs_hidden": true,
     "source_hidden": true
    },
    "tags": []
   },
   "outputs": [
    {
     "data": {
      "text/plain": [
       "' '"
      ]
     },
     "execution_count": 54,
     "metadata": {},
     "output_type": "execute_result"
    },
    {
     "data": {
      "image/png": "[encoded data removed]",
      "text/plain": [
       "<Figure size 432x288 with 2 Axes>"
      ]
     },
     "metadata": {
      "needs_background": "light"
     },
     "output_type": "display_data"
    }
   ],
   "source": [
    "n_ref = np.array(n_ref)\n",
    "n_array = np.array(n)\n",
    "diff_array = n_array-n_ref[0]\n",
    "# essentials.print_matrix(n_array-n_ref[0])\n",
    "fig, ax = plt.subplots(1,1)\n",
    "sns.heatmap(diff_array, mask=(iter_num_exaggerated == 20), square=True, linewidths=0.01, linecolor='k', cmap='coolwarm', norm=mcolors.CenteredNorm());\n",
    "ax.set_facecolor('k')\n",
    "plt.title('Error in density where simulation converged\\n+-v_ext=1.0')\n",
    "plt.gca().set_xticks(np.arange(len(x))+0.5)\n",
    "plt.gca().set_yticks(np.arange(len(x))+0.5)\n",
    "plt.yticks(rotation= 0)\n",
    "plt.gca().set_xticklabels([f'{i:.1f}' for i in x])\n",
    "plt.gca().set_yticklabels([f'{i:.1f}' for i in x])\n",
    "plt.xlabel('Starting potential mu_hxc of sites 1, 2, 4, 5')\n",
    "plt.ylabel('Starting potential mu_hxc of sites 0, 3')\n",
    "plt.savefig('results/6ring2_v5/changing-starting-hxc_error-broad_vext-1.png', dpi=150)\n",
    "\n",
    "' '"
   ]
  },
  {
   "cell_type": "code",
   "execution_count": 55,
   "id": "ac7e86d9-c4d3-463a-8f2a-33af15d7bbbb",
   "metadata": {
    "collapsed": true,
    "jupyter": {
     "outputs_hidden": true
    },
    "tags": []
   },
   "outputs": [
    {
     "data": {
      "text/plain": [
       "' '"
      ]
     },
     "execution_count": 55,
     "metadata": {},
     "output_type": "execute_result"
    },
    {
     "data": {
      "image/png": "[encoded data removed]",
      "text/plain": [
       "<Figure size 432x288 with 2 Axes>"
      ]
     },
     "metadata": {
      "needs_background": "light"
     },
     "output_type": "display_data"
    }
   ],
   "source": [
    "\n",
    "fig, ax = plt.subplots(1,1)\n",
    "ax.set_facecolor('k')\n",
    "sns.heatmap(diff_array, mask=(iter_num_exaggerated == 20), square=True, linewidths=0.01, linecolor='k', cmap='bwr', norm=mcolors.CenteredNorm(halfrange=0.1));\n",
    "plt.title('Error in density where simulation converged\\n+-v_ext=1.0')\n",
    "plt.gca().set_xticks(np.arange(len(x))+0.5)\n",
    "plt.gca().set_yticks(np.arange(len(x))+0.5)\n",
    "plt.yticks(rotation= 0)\n",
    "plt.gca().set_xticklabels([f'{i:.1f}' for i in x])\n",
    "plt.gca().set_yticklabels([f'{i:.1f}' for i in x])\n",
    "plt.xlabel('Starting potential mu_hxc of sites 1, 2, 4, 5')\n",
    "plt.ylabel('Starting potential mu_hxc of sites 0, 3')\n",
    "plt.savefig('results/6ring2_v5/changing-starting-hxc_error-narrow_vext-1.png', dpi=150)\n",
    "' '"
   ]
  },
  {
   "cell_type": "markdown",
   "id": "17ff88ba-d448-45ce-9945-103e46ff3a4a",
   "metadata": {
    "jp-MarkdownHeadingCollapsed": true,
    "tags": []
   },
   "source": [
    "# OLD CALCUALTIONS!!"
   ]
  },
  {
   "cell_type": "markdown",
   "id": "53a9a637-d17f-417c-af91-5afbd37f579b",
   "metadata": {
    "tags": []
   },
   "source": [
    "## v_ext = +- 0.5"
   ]
  },
  {
   "cell_type": "code",
   "execution_count": null,
   "id": "3abd946c-320b-4ae3-bc13-1e84ae179055",
   "metadata": {
    "tags": []
   },
   "outputs": [],
   "source": [
    "x = np.arange(-1.5, 1.6, 0.3)\n",
    "mol1 = lpfet.Molecule(6,6, \"_6ring2sites_vext-0.5\")\n",
    "mol_full = lpfet.class_Quant_NBody.QuantNBody(6, 6)\n",
    "mol_full.build_operator_a_dagger_a()\n",
    "n = []\n",
    "\n",
    "iter_num = []\n",
    "pmv = 0.5\n",
    "t, v_ext, u = lpfet.generate_from_graph(\n",
    "            {0: {'v': -pmv, 'U': 1}, 1: {'v': pmv, 'U': 1}, 2: {'v': pmv, 'U': 1}, 3: {'v': -pmv, 'U': 1},\n",
    "             4: {'v': pmv, 'U': 1}, 5: {'v': pmv, 'U': 1}},\n",
    "            {(0, 1): 1, (1, 2): 1, (2, 3): 1, (3, 4): 1, (4, 5): 1, (0, 5): 1})\n",
    "first = True\n",
    "for i_id, i in enumerate(x):\n",
    "    n.append([])\n",
    "    iter_num.append([])\n",
    "    for j in x:\n",
    "        if not first:\n",
    "            mol1.clear_object(\"_6ring2sites_vext-0.5\")\n",
    "        first = False\n",
    "        print(i, j, 100 * i_id/len(x))\n",
    "        \n",
    "        mol1.add_parameters(u, t, v_ext, [[0, 3], [1, 2, 4, 5]])\n",
    "        mol1.mu_hxc = np.array([i, j, j, i, j, j])\n",
    "        iter_num[-1].append(mol1.self_consistent_loop(num_iter=20, tolerance=0.000001))\n",
    "        n[-1].append(mol1.n_ks[0])\n",
    "\n",
    "y_ab, rest =mol1.compare_densities_FCI(pass_object=mol_full)\n",
    "y_ab /= 2\n",
    "n_ref = y_ab.diagonal()[0]"
   ]
  },
  {
   "cell_type": "code",
   "execution_count": null,
   "id": "a54a204d-6219-4ec0-9173-eaa3f9a8a7d6",
   "metadata": {
    "tags": []
   },
   "outputs": [],
   "source": [
    "iter_num_exaggerated = np.array(iter_num).copy() + 1\n",
    "# iter_num_exaggerated[iter_num_exaggerated == 20 ] = np.nan\n",
    "# plt.imshow(iter_num_exaggerated, cmap='viridis', interpolation='nearest')\n",
    "# plt.colorbar()\n",
    "sns.heatmap(iter_num_exaggerated, mask=(iter_num_exaggerated == 20), square=True, linewidths=0.01, linecolor='k', cmap='viridis');\n",
    "plt.title(f'Number of iterations - yellow means that maximum\\n number of iterations has been reached (20)\\n+-v_ext={pmv:.1f}')\n",
    "plt.gca().set_xticks(np.arange(len(x))+0.5)\n",
    "plt.gca().set_yticks(np.arange(len(x))+0.5)\n",
    "plt.yticks(rotation= 0)\n",
    "plt.gca().set_xticklabels([f'{i:.1f}' for i in x])\n",
    "plt.gca().set_yticklabels([f'{i:.1f}' for i in x])\n",
    "plt.xlabel('Starting potential mu_hxc of sites 1, 2, 4, 5')\n",
    "plt.ylabel('Starting potential mu_hxc of sites 0, 3')\n",
    "' '"
   ]
  },
  {
   "cell_type": "code",
   "execution_count": null,
   "id": "e8719084-60ca-455c-89fc-7d8b713c3ff2",
   "metadata": {
    "tags": []
   },
   "outputs": [],
   "source": [
    "n_ref = np.array(n_ref)\n",
    "n_array = np.array(n)\n",
    "diff_array = n_array-n_ref\n",
    "essentials.print_matrix(n_array-n_ref)\n",
    "sns.heatmap(diff_array, mask=(iter_num_exaggerated == 20), square=True, linewidths=0.01, linecolor='k', cmap='coolwarm', norm=mcolors.CenteredNorm());\n",
    "plt.title(f'Error in density where simulation converged\\n+-v_ext={pmv}')\n",
    "plt.gca().set_xticks(np.arange(len(x))+0.5)\n",
    "plt.gca().set_yticks(np.arange(len(x))+0.5)\n",
    "plt.yticks(rotation= 0)\n",
    "plt.gca().set_xticklabels([f'{i:.1f}' for i in x])\n",
    "plt.gca().set_yticklabels([f'{i:.1f}' for i in x])\n",
    "plt.xlabel('Starting potential mu_hxc of sites 1, 2, 4, 5')\n",
    "plt.ylabel('Starting potential mu_hxc of sites 0, 3')\n",
    "' '"
   ]
  },
  {
   "cell_type": "code",
   "execution_count": null,
   "id": "fd81c861-9647-44b5-b182-70d0c767b2f8",
   "metadata": {
    "tags": []
   },
   "outputs": [],
   "source": [
    "n_ref = np.array(n_ref)\n",
    "n_array = np.array(n)\n",
    "diff_array = n_array-n_ref\n",
    "essentials.print_matrix(n_array-n_ref)\n",
    "fig, ax = plt.subplots(1,1)\n",
    "sns.heatmap(diff_array, mask=(iter_num_exaggerated == 20), square=True, linewidths=0.01, linecolor='k', cmap='bwr', norm=mcolors.CenteredNorm(halfrange=0.2));\n",
    "plt.title(f'Error in density where simulation converged\\n+-v_ext={pmv}')\n",
    "ax.set_facecolor('k')\n",
    "plt.gca().set_xticks(np.arange(len(x))+0.5)\n",
    "plt.gca().set_yticks(np.arange(len(x))+0.5)\n",
    "plt.yticks(rotation= 0)\n",
    "plt.gca().set_xticklabels([f'{i:.1f}' for i in x])\n",
    "plt.gca().set_yticklabels([f'{i:.1f}' for i in x])\n",
    "plt.xlabel('Starting potential mu_hxc of sites 1, 2, 4, 5')\n",
    "plt.ylabel('Starting potential mu_hxc of sites 0, 3')\n",
    "' '"
   ]
  },
  {
   "cell_type": "markdown",
   "id": "e50b29c9-d717-4e1c-8ad5-7c134516c52a",
   "metadata": {
    "jp-MarkdownHeadingCollapsed": true,
    "tags": []
   },
   "source": [
    "## v_ext = +- 2"
   ]
  },
  {
   "cell_type": "code",
   "execution_count": null,
   "id": "fc1fb6dc-341d-495f-801b-4c5c5779529a",
   "metadata": {
    "tags": []
   },
   "outputs": [],
   "source": [
    "x = np.arange(-1.5, 1.6, 0.3)\n",
    "mol1 = lpfet.Molecule(6,6, \"_6ring2sites_vext-2\")\n",
    "mol_full = lpfet.class_Quant_NBody.QuantNBody(6, 6)\n",
    "mol_full.build_operator_a_dagger_a()\n",
    "n = []\n",
    "\n",
    "iter_num = []\n",
    "pmv = 2\n",
    "t, v_ext, u = lpfet.generate_from_graph(\n",
    "            {0: {'v': -pmv, 'U': 1}, 1: {'v': pmv, 'U': 1}, 2: {'v': pmv, 'U': 1}, 3: {'v': -pmv, 'U': 1},\n",
    "             4: {'v': pmv, 'U': 1}, 5: {'v': pmv, 'U': 1}},\n",
    "            {(0, 1): 1, (1, 2): 1, (2, 3): 1, (3, 4): 1, (4, 5): 1, (0, 5): 1})\n",
    "first = True\n",
    "for i_id, i in enumerate(x):\n",
    "    n.append([])\n",
    "    iter_num.append([])\n",
    "    for j in x:\n",
    "        if not first:\n",
    "            mol1.clear_object(\"_6ring2sites_vext-2\")\n",
    "        first = False\n",
    "        print(i, j, 100 * i_id/len(x))\n",
    "        \n",
    "        mol1.add_parameters(u, t, v_ext, [[0, 3], [1, 2, 4, 5]])\n",
    "        mol1.mu_hxc = np.array([i, j, j, i, j, j])\n",
    "        iter_num[-1].append(mol1.self_consistent_loop(num_iter=20, tolerance=0.000001))\n",
    "        n[-1].append(mol1.n_ks[0])\n",
    "\n",
    "y_ab, rest =mol1.compare_densities_FCI(pass_object=mol_full)\n",
    "y_ab /= 2\n",
    "n_ref = y_ab.diagonal()[0]"
   ]
  },
  {
   "cell_type": "code",
   "execution_count": null,
   "id": "8b103e18-84bb-401f-a0b9-25cba24267be",
   "metadata": {},
   "outputs": [],
   "source": [
    "iter_num_exaggerated = np.array(iter_num).copy() + 1\n",
    "# iter_num_exaggerated[iter_num_exaggerated == 20 ] = np.nan\n",
    "# plt.imshow(iter_num_exaggerated, cmap='viridis', interpolation='nearest')\n",
    "# plt.colorbar()\n",
    "fig, ax = plt.subplots(1,1)\n",
    "ax.set_facecolor('k')\n",
    "sns.heatmap(iter_num_exaggerated, mask=(iter_num_exaggerated == 20), square=True, linewidths=0.01, linecolor='k', cmap='viridis');\n",
    "plt.title(f'Number of iterations\\n+-v_ext={pmv:.1f}')\n",
    "plt.gca().set_xticks(np.arange(len(x))+0.5)\n",
    "plt.gca().set_yticks(np.arange(len(x))+0.5)\n",
    "plt.yticks(rotation= 0)\n",
    "plt.gca().set_xticklabels([f'{i:.1f}' for i in x])\n",
    "plt.gca().set_yticklabels([f'{i:.1f}' for i in x])\n",
    "plt.xlabel('Starting potential mu_hxc of sites 1, 2, 4, 5')\n",
    "plt.ylabel('Starting potential mu_hxc of sites 0, 3')\n",
    "' '"
   ]
  },
  {
   "cell_type": "code",
   "execution_count": null,
   "id": "dfcb842f-bbb7-4bff-a43a-dca246484ac8",
   "metadata": {
    "tags": []
   },
   "outputs": [],
   "source": [
    "n_array = np.array(n)\n",
    "diff_array = n_array-n_ref\n",
    "essentials.print_matrix(n_array-n_ref)\n",
    "fig, ax = plt.subplots(1,1)\n",
    "ax.set_facecolor('k')\n",
    "sns.heatmap(diff_array, mask=(iter_num_exaggerated == 20), square=True, linewidths=0.01, linecolor='k', cmap='coolwarm', norm=mcolors.CenteredNorm());\n",
    "plt.title(f'Error in density where simulation converged\\n+-v_ext={pmv}')\n",
    "plt.gca().set_xticks(np.arange(len(x))+0.5)\n",
    "plt.gca().set_yticks(np.arange(len(x))+0.5)\n",
    "plt.yticks(rotation= 0)\n",
    "plt.gca().set_xticklabels([f'{i:.1f}' for i in x])\n",
    "plt.gca().set_yticklabels([f'{i:.1f}' for i in x])\n",
    "plt.xlabel('Starting potential mu_hxc of sites 1, 2, 4, 5')\n",
    "plt.ylabel('Starting potential mu_hxc of sites 0, 3')\n",
    "' '"
   ]
  },
  {
   "cell_type": "code",
   "execution_count": null,
   "id": "740ffea2-21ab-431d-94c0-fc70da2093a2",
   "metadata": {
    "tags": []
   },
   "outputs": [],
   "source": [
    "n_ref = np.array(n_ref)\n",
    "n_array = np.array(n)\n",
    "diff_array = n_array-n_ref\n",
    "essentials.print_matrix(n_array-n_ref)\n",
    "fig, ax = plt.subplots(1,1)\n",
    "sns.heatmap(diff_array, mask=(iter_num_exaggerated == 20), square=True, linewidths=0.01, linecolor='k', cmap='bwr', norm=mcolors.CenteredNorm(halfrange=0.2));\n",
    "plt.title(f'Error in density where simulation converged\\n+-v_ext={pmv}')\n",
    "ax.set_facecolor('k')\n",
    "plt.gca().set_xticks(np.arange(len(x))+0.5)\n",
    "plt.gca().set_yticks(np.arange(len(x))+0.5)\n",
    "plt.yticks(rotation= 0)\n",
    "plt.gca().set_xticklabels([f'{i:.1f}' for i in x])\n",
    "plt.gca().set_yticklabels([f'{i:.1f}' for i in x])\n",
    "plt.xlabel('Starting potential mu_hxc of sites 1, 2, 4, 5')\n",
    "plt.ylabel('Starting potential mu_hxc of sites 0, 3')\n",
    "' '"
   ]
  },
  {
   "cell_type": "markdown",
   "id": "46930e03-b0d6-484b-8787-4dc43537f187",
   "metadata": {
    "tags": []
   },
   "source": [
    "## Conclussions\n",
    "It looks like convergence and error of the algorithm is dependent primarily the **difference** on starting values of $v^{Hxc}$. \\\n",
    "It also looks like I can reduce dimensionality of this problem by only taking starting Hxc potential (-x, x, x, -x, x, x) \\\n",
    "From only 2 examples it looks like that for larger $\\Delta v^{ext}$ there is higher optimal difference in starting Hxc chemical potentials."
   ]
  },
  {
   "cell_type": "markdown",
   "id": "e3913346-e298-4e86-8e0f-21a8ece812cb",
   "metadata": {
    "tags": []
   },
   "source": [
    "# New way to adjust potential (hopefully)"
   ]
  },
  {
   "cell_type": "markdown",
   "id": "816a3204-6af4-4b1a-af95-fab31fb69153",
   "metadata": {
    "tags": []
   },
   "source": [
    "## Comparison with the first experiment"
   ]
  },
  {
   "cell_type": "markdown",
   "id": "94a1b8da-6109-4989-b2f1-5934f8b67b6e",
   "metadata": {
    "tags": []
   },
   "source": [
    "## Testing for v_ext=1"
   ]
  },
  {
   "cell_type": "code",
   "execution_count": 57,
   "id": "2c61f1d0-ad2b-4736-a871-f7dc23fc3b98",
   "metadata": {
    "collapsed": true,
    "jupyter": {
     "outputs_hidden": true
    },
    "tags": []
   },
   "outputs": [
    {
     "name": "stdout",
     "output_type": "stream",
     "text": [
      "\n",
      "\t ===========================================\n",
      "\t ====  The matrix form of a^a is built  ====\n",
      "\t ===========================================\n",
      "\n",
      "\t ===========================================\n",
      "\t ====  The matrix form of a^a is built  ====\n",
      "\t ===========================================\n",
      "\n",
      " (-1.500, -1.500, 0%): , Loop 0, Loop 1, -1.50->0.28->-0.86!=-1.24, -0.46->-0.75->-0.25!=-0.08, Loop 2, 0.28->-0.86->-0.16!=0.07, Loop 3, -0.86->-0.16->-0.77!=-0.97, -0.25->-0.52->-0.32!=-0.25, Loop 4, Loop 5, Loop 6, Loop 7, \n",
      " (-1.500, -1.200, 0%): , Loop 0, Loop 1, Loop 2, Loop 3, \n",
      " (-1.500, -0.900, 0%): , Loop 0, Loop 1, Loop 2, Loop 3, Loop 4, \n",
      " (-1.500, -0.600, 0%): , Loop 0, Loop 1, -0.14->-1.03->-0.31!=-0.07, -0.60->-0.22->-0.48!=-0.57, Loop 2, Loop 3, Loop 4, Loop 5, \n",
      " (-1.500, -0.300, 0%): , Loop 0, Loop 1, 0.44->-1.36->0.10!=0.59, -0.98->-0.02->-0.87!=-1.15, Loop 2, -1.36->0.10->-0.91!=-1.25, -0.02->-0.87->-0.29!=-0.10, Loop 3, Loop 4, -0.91->-0.20->-0.77!=-0.97, -0.29->-0.54->-0.33!=-0.26, Loop 5, Loop 6, Loop 7, Loop 8, \n",
      " (-1.500, 0.000, 0%): , Loop 0, Loop 1, 0.75->-2.00->0.69!=1.59, -1.27->0.10->-1.06!=-1.44, Loop 2, -2.00->0.69->-1.26!=-1.90, 0.10->-1.06->-0.24!=0.03, Loop 3, Loop 4, -1.26->0.12->-0.83!=-1.15, -0.24->-0.65->-0.26!=-0.13, Loop 5, Loop 6, Loop 7, Loop 8, \n",
      " (-1.500, 0.300, 0%): , Loop 0, Loop 1, 1.06->-2.13->0.68!=1.61, -1.48->0.26->-1.26!=-1.76, Loop 2, -2.13->0.68->-1.32!=-1.98, 0.26->-1.26->-0.25!=0.09, Loop 3, Loop 4, -1.32->0.05->-0.84!=-1.13, -0.25->-0.67->-0.27!=-0.14, Loop 5, Loop 6, Loop 7, Loop 8, \n",
      " (-1.500, 0.600, 0%): , Loop 0, Loop 1, 1.28->-2.12->0.64!=1.56, -1.38->0.20->-1.12!=-1.56, Loop 2, -2.12->0.64->-1.28!=-1.91, 0.20->-1.12->-0.25!=0.04, Loop 3, Loop 4, -1.28->0.14->-0.83!=-1.15, -0.25->-0.65->-0.26!=-0.12, Loop 5, Loop 6, Loop 7, Loop 8, \n",
      " (-1.500, 0.900, 0%): , Loop 0, Loop 1, 1.72->-2.12->0.77!=1.74, -1.57->0.36->-1.13!=-1.63, Loop 2, -2.12->0.77->-1.28!=-1.96, 0.36->-1.13->-0.24!=0.06, Loop 3, Loop 4, -1.28->0.15->-0.83!=-1.16, -0.24->-0.65->-0.25!=-0.12, Loop 5, Loop 6, Loop 7, Loop 8, \n",
      " (-1.500, 1.200, 0%): , Loop 0, Loop 1, 2.27->-2.65->7.88!=11.39, -1.60->0.40->-1.31!=-1.87, Loop 2, -2.65->7.88->-17.13!=-25.47, 0.40->-1.31->-0.29!=0.05, Loop 3, -1.31->-0.29->-0.87!=-1.06, Loop 4, Loop 5, \n",
      " (-1.500, 1.500, 0%): , Loop 0, Loop 1, 2.38->-2.42->4.98!=7.45, -1.87->0.42->-1.24!=-1.79, Loop 2, -2.42->4.98->-1.34!=-3.44, 0.42->-1.24->-0.23!=0.11, Loop 3, Loop 4, -1.34->0.35->-0.91!=-1.33, -0.23->-0.94->-0.26!=-0.04, Loop 5, Loop 6, -0.91->-0.17->-0.77!=-0.98, -0.26->-0.54->-0.32!=-0.25, Loop 7, Loop 8, Loop 9, Loop 10, \n",
      " (-1.200, -1.500, 9%): , Loop 0, Loop 1, -1.20->0.00->-0.83!=-1.10, -0.31->-0.64->-0.28!=-0.16, Loop 2, Loop 3, Loop 4, Loop 5, \n",
      " (-1.200, -1.200, 9%): , Loop 0, Loop 1, -1.20->-0.09->-0.83!=-1.07, -0.42->-0.64->-0.30!=-0.18, Loop 2, Loop 3, Loop 4, Loop 5, \n",
      " (-1.200, -0.900, 9%): , Loop 0, Loop 1, Loop 2, Loop 3, \n",
      " (-1.200, -0.600, 9%): , Loop 0, Loop 1, 0.08->-1.11->-0.23!=0.07, -0.60->-0.14->-0.69!=-0.87, Loop 2, -1.11->-0.23->-0.84!=-1.05, -0.14->-0.69->-0.33!=-0.21, Loop 3, Loop 4, Loop 5, Loop 6, \n",
      " (-1.200, -0.300, 9%): , Loop 0, Loop 1, 0.01->-1.11->-0.24!=0.05, -0.64->-0.16->-0.68!=-0.86, Loop 2, -1.11->-0.24->-0.84!=-1.04, -0.16->-0.68->-0.34!=-0.22, Loop 3, Loop 4, Loop 5, Loop 6, \n",
      " (-1.200, 0.000, 9%): , Loop 0, Loop 1, 0.28->-1.36->0.10!=0.59, -1.06->-0.02->-0.87!=-1.15, Loop 2, -1.36->0.10->-0.91!=-1.24, -0.02->-0.87->-0.29!=-0.10, Loop 3, 0.10->-0.91->-0.13!=0.14, Loop 4, -0.91->-0.13->-0.78!=-1.00, -0.29->-0.54->-0.31!=-0.23, Loop 5, Loop 6, Loop 7, Loop 8, \n",
      " (-1.200, 0.300, 9%): , Loop 0, Loop 1, 0.69->-1.96->0.49!=1.31, -1.19->0.07->-1.18!=-1.59, Loop 2, -1.96->0.49->-0.95!=-1.43, 0.07->-1.18->-0.26!=0.04, Loop 3, Loop 4, -0.95->-0.15->-0.78!=-0.99, -0.26->-0.55->-0.32!=-0.24, Loop 5, Loop 6, Loop 7, Loop 8, \n",
      " (-1.200, 0.600, 9%): , Loop 0, Loop 1, 1.00->-2.05->0.65!=1.55, -1.24->0.11->-1.08!=-1.48, Loop 2, -2.05->0.65->-1.26!=-1.90, 0.11->-1.08->-0.25!=0.03, Loop 3, Loop 4, -1.26->0.12->-0.83!=-1.15, -0.25->-0.65->-0.26!=-0.13, Loop 5, Loop 6, Loop 7, Loop 8, \n",
      " (-1.200, 0.900, 9%): , Loop 0, Loop 1, 1.30->-2.13->0.65!=1.57, -1.42->0.22->-1.15!=-1.61, Loop 2, -2.13->0.65->-1.29!=-1.93, 0.22->-1.15->-0.25!=0.05, Loop 3, Loop 4, -1.29->0.15->-0.83!=-1.16, -0.25->-0.66->-0.25!=-0.12, Loop 5, Loop 6, Loop 7, Loop 8, \n",
      " (-1.200, 1.200, 9%): , Loop 0, Loop 1, 1.85->-2.12->0.79!=1.77, -1.80->0.40->-1.14!=-1.65, Loop 2, -2.12->0.79->-1.28!=-1.97, 0.40->-1.14->-0.24!=0.06, Loop 3, Loop 4, -1.28->0.15->-0.83!=-1.16, -0.24->-0.65->-0.25!=-0.12, Loop 5, Loop 6, Loop 7, Loop 8, \n",
      " (-1.200, 1.500, 9%): , Loop 0, Loop 1, 2.24->-2.70->7.70!=11.16, -1.91->0.39->-1.22!=-1.75, Loop 2, -2.70->7.70->-4.51!=-8.57, 0.39->-1.22->-0.27!=0.05, Loop 3, 7.70->-4.51->5.87!=9.33, -1.22->-0.27->-1.65!=-2.12, Loop 4, -4.51->5.87->-8.19!=-12.88, -0.27->-1.65->-0.19!=0.30, Loop 5, -1.65->-0.19->-1.29!=-1.65, Loop 6, Loop 7, Loop 8, Loop 9, \n",
      " (-0.900, -1.500, 18%): , Loop 0, Loop 1, -0.90->-0.10->-0.77!=-1.00, -0.17->-0.52->-0.30!=-0.23, Loop 2, Loop 3, Loop 4, Loop 5, \n",
      " (-0.900, -1.200, 18%): , Loop 0, Loop 1, -0.90->0.14->-0.79!=-1.09, -0.27->-0.53->-0.24!=-0.14, Loop 2, -0.53->-0.24->-0.43!=-0.49, Loop 3, Loop 4, Loop 5, \n",
      " (-0.900, -0.900, 18%): , Loop 0, Loop 1, Loop 2, Loop 3, \n",
      " (-0.900, -0.600, 18%): , Loop 0, Loop 1, \n",
      " (-0.900, -0.300, 18%): , Loop 0, Loop 1, 0.09->-1.08->-0.25!=0.03, -0.54->-0.16->-0.67!=-0.84, Loop 2, -1.08->-0.25->-0.83!=-1.03, -0.16->-0.67->-0.34!=-0.23, Loop 3, Loop 4, Loop 5, Loop 6, \n",
      " (-0.900, 0.000, 18%): , Loop 0, Loop 1, 0.13->-1.25->-0.13!=0.25, -0.87->-0.09->-0.77!=-1.00, Loop 2, -1.25->-0.13->-0.88!=-1.14, -0.09->-0.77->-0.32!=-0.17, Loop 3, Loop 4, Loop 5, Loop 6, \n",
      " (-0.900, 0.300, 18%): , Loop 0, Loop 1, 0.41->-1.34->0.06!=0.52, -0.94->-0.03->-0.85!=-1.13, Loop 2, -1.34->0.06->-0.91!=-1.23, -0.03->-0.85->-0.30!=-0.11, Loop 3, 0.06->-0.91->-0.14!=0.12, Loop 4, -0.91->-0.14->-0.78!=-0.99, -0.30->-0.54->-0.31!=-0.24, Loop 5, Loop 6, Loop 7, Loop 8, \n",
      " (-0.900, 0.600, 18%): , Loop 0, Loop 1, 0.71->-1.93->0.46!=1.25, -1.10->0.04->-1.15!=-1.54, Loop 2, -1.93->0.46->-0.95!=-1.42, 0.04->-1.15->-0.27!=0.03, Loop 3, Loop 4, -0.95->-0.16->-0.78!=-0.99, -0.27->-0.55->-0.32!=-0.24, Loop 5, Loop 6, Loop 7, Loop 8, \n",
      " (-0.900, 0.900, 18%): , Loop 0, Loop 1, 1.01->-2.06->0.65!=1.55, -1.26->0.12->-1.08!=-1.48, Loop 2, -2.06->0.65->-1.26!=-1.90, 0.12->-1.08->-0.25!=0.03, Loop 3, Loop 4, -1.26->0.12->-0.83!=-1.15, -0.25->-0.65->-0.26!=-0.13, Loop 5, Loop 6, Loop 7, Loop 8, \n",
      " (-0.900, 1.200, 18%): , Loop 0, Loop 1, 1.31->-2.13->0.65!=1.57, -1.42->0.22->-1.16!=-1.62, Loop 2, -2.13->0.65->-1.29!=-1.93, 0.22->-1.16->-0.25!=0.05, Loop 3, Loop 4, -1.29->0.15->-0.83!=-1.16, -0.25->-0.66->-0.25!=-0.12, Loop 5, Loop 6, Loop 7, Loop 8, \n",
      " (-0.900, 1.500, 18%): , Loop 0, Loop 1, 1.65->-2.12->0.73!=1.67, -1.51->0.31->-1.15!=-1.64, Loop 2, -2.12->0.73->-1.28!=-1.95, 0.31->-1.15->-0.24!=0.06, Loop 3, Loop 4, -1.28->0.15->-0.83!=-1.16, -0.24->-0.66->-0.25!=-0.12, Loop 5, Loop 6, Loop 7, Loop 8, \n",
      " (-0.600, -1.500, 27%): , Loop 0, Loop 1, -1.41->0.61->-1.29!=-1.92, -0.04->-1.16->-0.25!=0.05, Loop 2, 0.61->-1.29->-0.21!=0.15, Loop 3, -1.29->-0.21->-0.83!=-1.04, -0.25->-0.66->-0.33!=-0.22, Loop 4, Loop 5, Loop 6, Loop 7, \n",
      " (-0.600, -1.200, 27%): , Loop 0, Loop 1, -0.86->0.20->-0.78!=-1.10, -0.17->-0.51->-0.23!=-0.13, Loop 2, -0.51->-0.23->-0.42!=-0.49, Loop 3, Loop 4, Loop 5, \n",
      " (-0.600, -0.900, 27%): , Loop 0, Loop 1, Loop 2, Loop 3, \n",
      " (-0.600, -0.600, 27%): , Loop 0, Loop 1, Loop 2, \n",
      " (-0.600, -0.300, 27%): , Loop 0, Loop 1, \n",
      " (-0.600, 0.000, 27%): , Loop 0, Loop 1, Loop 2, Loop 3, \n",
      " (-0.600, 0.300, 27%): , Loop 0, Loop 1, 0.31->-1.34->0.05!=0.51, -0.98->-0.04->-0.85!=-1.11, Loop 2, -1.34->0.05->-0.90!=-1.22, -0.04->-0.85->-0.30!=-0.11, Loop 3, 0.05->-0.90->-0.14!=0.11, Loop 4, -0.90->-0.14->-0.78!=-0.99, -0.30->-0.54->-0.31!=-0.24, Loop 5, Loop 6, Loop 7, Loop 8, \n",
      " (-0.600, 0.600, 27%): , Loop 0, Loop 1, 0.56->-1.37->0.11!=0.61, -0.94->-0.01->-0.88!=-1.17, Loop 2, -1.37->0.11->-0.91!=-1.25, -0.01->-0.88->-0.29!=-0.09, Loop 3, Loop 4, -0.91->-0.19->-0.77!=-0.97, -0.29->-0.54->-0.33!=-0.26, Loop 5, Loop 6, Loop 7, Loop 8, \n",
      " (-0.600, 0.900, 27%): , Loop 0, Loop 1, 0.75->-1.94->0.46!=1.26, -1.09->0.04->-1.15!=-1.55, Loop 2, -1.94->0.46->-0.95!=-1.42, 0.04->-1.15->-0.27!=0.03, Loop 3, Loop 4, -0.95->-0.16->-0.78!=-0.99, -0.27->-0.55->-0.32!=-0.24, Loop 5, Loop 6, Loop 7, Loop 8, \n",
      " (-0.600, 1.200, 27%): , Loop 0, Loop 1, 1.06->-2.07->0.64!=1.54, -1.26->0.12->-1.08!=-1.49, Loop 2, -2.07->0.64->-1.27!=-1.90, 0.12->-1.08->-0.25!=0.03, Loop 3, Loop 4, -1.27->0.13->-0.83!=-1.15, -0.25->-0.65->-0.26!=-0.13, Loop 5, Loop 6, Loop 7, Loop 8, \n",
      " (-0.600, 1.500, 27%): , Loop 0, Loop 1, 1.37->-2.13->0.66!=1.59, -1.44->0.24->-1.20!=-1.68, Loop 2, -2.13->0.66->-1.30!=-1.95, 0.24->-1.20->-0.25!=0.07, Loop 3, Loop 4, -1.30->0.16->-0.83!=-1.17, -0.25->-0.66->-0.25!=-0.12, Loop 5, Loop 6, Loop 7, Loop 8, \n",
      " (-0.300, -1.500, 36%): , Loop 0, Loop 1, -1.44->0.78->-1.27!=-1.96, 0.08->-1.12->-0.24!=0.06, Loop 2, Loop 3, -1.27->0.14->-0.83!=-1.15, -0.24->-0.65->-0.25!=-0.12, Loop 4, Loop 5, Loop 6, Loop 7, \n",
      " (-0.300, -1.200, 36%): , Loop 0, Loop 1, -1.31->0.42->-0.93!=-1.38, -0.10->-1.04->-0.27!=-0.01, Loop 2, Loop 3, -0.93->-0.17->-0.78!=-0.98, -0.27->-0.54->-0.32!=-0.24, Loop 4, Loop 5, Loop 6, Loop 7, \n",
      " (-0.300, -0.900, 36%): , Loop 0, Loop 1, -1.15->0.07->-0.91!=-1.23, -0.19->-0.86->-0.29!=-0.11, Loop 2, 0.07->-0.91->-0.13!=0.13, Loop 3, -0.91->-0.13->-0.78!=-0.99, -0.29->-0.54->-0.31!=-0.23, Loop 4, Loop 5, Loop 6, Loop 7, \n",
      " (-0.300, -0.600, 36%): , Loop 0, Loop 1, -0.96->-0.16->-0.78!=-0.99, -0.27->-0.55->-0.32!=-0.24, Loop 2, Loop 3, Loop 4, Loop 5, \n",
      " (-0.300, -0.300, 36%): , Loop 0, Loop 1, Loop 2, \n",
      " (-0.300, 0.000, 36%): , Loop 0, Loop 1, Loop 2, Loop 3, \n",
      " (-0.300, 0.300, 36%): , Loop 0, Loop 1, -0.30->-1.10->-0.27!=0.00, Loop 2, -1.10->-0.27->-0.79!=-0.97, -0.21->-0.59->-0.35!=-0.27, Loop 3, Loop 4, Loop 5, Loop 6, \n",
      " (-0.300, 0.600, 36%): , Loop 0, Loop 1, -0.08->-1.15->-0.22!=0.09, -0.78->-0.16->-0.70!=-0.88, Loop 2, -1.15->-0.22->-0.85!=-1.06, -0.16->-0.70->-0.33!=-0.21, Loop 3, Loop 4, Loop 5, Loop 6, \n",
      " (-0.300, 0.900, 36%): , Loop 0, Loop 1, 0.57->-1.36->0.11!=0.60, -0.91->-0.01->-0.87!=-1.16, Loop 2, -1.36->0.11->-0.91!=-1.25, -0.01->-0.87->-0.29!=-0.09, Loop 3, Loop 4, -0.91->-0.19->-0.77!=-0.97, -0.29->-0.54->-0.33!=-0.26, Loop 5, Loop 6, Loop 7, Loop 8, \n",
      " (-0.300, 1.200, 36%): , Loop 0, Loop 1, 0.92->-1.98->0.50!=1.32, -1.07->0.06->-1.18!=-1.60, Loop 2, -1.98->0.50->-1.30!=-1.89, 0.06->-1.18->-0.26!=0.04, Loop 3, 0.50->-1.30->-0.22!=0.14, Loop 4, -1.30->-0.22->-0.83!=-1.04, -0.26->-0.66->-0.33!=-0.22, Loop 5, Loop 6, Loop 7, Loop 8, \n",
      " (-0.300, 1.500, 36%): , Loop 0, Loop 1, 1.06->-2.07->0.64!=1.54, -1.27->0.13->-1.09!=-1.49, Loop 2, -2.07->0.64->-1.27!=-1.90, 0.13->-1.09->-0.25!=0.03, Loop 3, Loop 4, -1.27->0.13->-0.83!=-1.15, -0.25->-0.65->-0.26!=-0.13, Loop 5, Loop 6, Loop 7, Loop 8, \n",
      " (0.000, -1.500, 45%): , Loop 0, Loop 1, -1.47->0.88->-1.28!=-2.01, 0.15->-1.18->-0.23!=0.08, Loop 2, Loop 3, -1.28->0.16->-0.92!=-1.28, -0.23->-0.90->-0.29!=-0.08, Loop 4, Loop 5, -0.92->-0.19->-0.78!=-0.97, -0.29->-0.54->-0.33!=-0.25, Loop 6, Loop 7, Loop 8, Loop 9, \n",
      " (0.000, -1.200, 45%): , Loop 0, Loop 1, -1.36->0.58->-1.28!=-1.90, -0.03->-1.14->-0.26!=0.04, Loop 2, 0.58->-1.28->-0.22!=0.14, Loop 3, -1.28->-0.22->-0.83!=-1.03, -0.26->-0.66->-0.33!=-0.22, Loop 4, Loop 5, Loop 6, Loop 7, \n",
      " (0.000, -0.900, 45%): , Loop 0, Loop 1, -1.24->0.21->-0.93!=-1.31, -0.11->-0.97->-0.29!=-0.06, Loop 2, Loop 3, -0.93->-0.18->-0.78!=-0.98, -0.29->-0.55->-0.32!=-0.25, Loop 4, Loop 5, Loop 6, Loop 7, \n",
      " (0.000, -0.600, 45%): , Loop 0, Loop 1, -1.08->0.02->-0.90!=-1.21, -0.17->-0.83->-0.30!=-0.12, Loop 2, 0.02->-0.90->-0.15!=0.10, Loop 3, -0.90->-0.15->-0.78!=-0.99, -0.30->-0.54->-0.32!=-0.24, Loop 4, Loop 5, Loop 6, Loop 7, \n",
      " (0.000, -0.300, 45%): , Loop 0, Loop 1, -0.90->0.09->-0.79!=-1.08, -0.30->-0.54->-0.25!=-0.16, Loop 2, -0.54->-0.25->-0.44!=-0.50, Loop 3, Loop 4, Loop 5, \n",
      " (0.000, 0.000, 45%): , Loop 0, Loop 1, Loop 2, Loop 3, \n",
      " (0.000, 0.300, 45%): , Loop 0, Loop 1, -0.25->-0.99->-0.28!=-0.04, -0.61->-0.25->-0.48!=-0.56, Loop 2, Loop 3, Loop 4, Loop 5, \n",
      " (0.000, 0.600, 45%): , Loop 0, Loop 1, 0.00->-1.10->-0.24!=0.04, -0.62->-0.16->-0.67!=-0.85, Loop 2, -1.10->-0.24->-0.84!=-1.03, -0.16->-0.67->-0.34!=-0.23, Loop 3, Loop 4, Loop 5, Loop 6, \n",
      " (0.000, 0.900, 45%): , Loop 0, Loop 1, 0.00->-1.16->-0.21!=0.11, -0.74->-0.14->-0.71!=-0.90, Loop 2, -1.16->-0.21->-0.86!=-1.07, -0.14->-0.71->-0.33!=-0.20, Loop 3, Loop 4, Loop 5, Loop 6, \n",
      " (0.000, 1.200, 45%): , Loop 0, Loop 1, 0.26->-1.29->0.00!=0.43, -0.89->-0.06->-0.81!=-1.06, Loop 2, -1.29->0.00->-0.89!=-1.19, -0.06->-0.81->-0.30!=-0.13, Loop 3, 0.00->-0.89->-0.17!=0.08, Loop 4, -0.89->-0.17->-0.77!=-0.98, -0.30->-0.53->-0.32!=-0.25, Loop 5, Loop 6, Loop 7, Loop 8, \n",
      " (0.000, 1.500, 45%): , Loop 0, Loop 1, 0.82->-1.96->0.49!=1.30, -1.10->0.06->-1.17!=-1.58, Loop 2, -1.96->0.49->-0.95!=-1.43, 0.06->-1.17->-0.26!=0.04, Loop 3, Loop 4, -0.95->-0.16->-0.78!=-0.99, -0.26->-0.55->-0.32!=-0.24, Loop 5, Loop 6, Loop 7, Loop 8, \n",
      " (0.300, -1.500, 55%): , Loop 0, Loop 1, -1.50->0.96->-1.29!=-2.04, 0.20->-1.22->-0.23!=0.10, Loop 2, Loop 3, -1.29->0.17->-0.92!=-1.28, -0.23->-0.91->-0.28!=-0.08, Loop 4, Loop 5, -0.92->-0.19->-0.78!=-0.97, -0.28->-0.54->-0.32!=-0.25, Loop 6, Loop 7, Loop 8, Loop 9, \n",
      " (0.300, -1.200, 55%): , Loop 0, Loop 1, -1.41->0.68->-1.31!=-1.97, 0.02->-1.23->-0.25!=0.08, Loop 2, Loop 3, -1.31->0.05->-0.84!=-1.13, -0.25->-0.66->-0.27!=-0.14, Loop 4, Loop 5, Loop 6, Loop 7, \n",
      " (0.300, -0.900, 55%): , Loop 0, Loop 1, -1.30->0.45->-0.93!=-1.39, -0.05->-1.08->-0.26!=0.01, Loop 2, Loop 3, -0.93->-0.16->-0.78!=-0.99, -0.26->-0.54->-0.32!=-0.24, Loop 4, Loop 5, Loop 6, Loop 7, \n",
      " (0.300, -0.600, 55%): , Loop 0, Loop 1, -1.18->0.17->-0.93!=-1.30, -0.09->-0.95->-0.29!=-0.07, Loop 2, Loop 3, -0.93->-0.18->-0.78!=-0.98, -0.29->-0.55->-0.32!=-0.25, Loop 4, Loop 5, Loop 6, Loop 7, \n",
      " (0.300, -0.300, 55%): , Loop 0, Loop 1, -1.03->-0.14->-0.80!=-1.02, -0.30->-0.58->-0.31!=-0.22, Loop 2, Loop 3, Loop 4, Loop 5, \n",
      " (0.300, 0.000, 55%): , Loop 0, Loop 1, -0.85->0.02->-0.90!=-1.21, 0.00->-0.83->-0.30!=-0.12, Loop 2, 0.02->-0.90->-0.15!=0.10, Loop 3, -0.90->-0.15->-0.78!=-0.98, -0.30->-0.54->-0.32!=-0.24, Loop 4, Loop 5, Loop 6, Loop 7, \n",
      " (0.300, 0.300, 55%): , Loop 0, Loop 1, Loop 2, \n",
      " (0.300, 0.600, 55%): , Loop 0, Loop 1, Loop 2, Loop 3, Loop 4, \n",
      " (0.300, 0.900, 55%): , Loop 0, Loop 1, 0.02->-1.07->-0.26!=0.01, -0.58->-0.17->-0.47!=-0.57, Loop 2, Loop 3, Loop 4, Loop 5, \n",
      " (0.300, 1.200, 55%): , Loop 0, Loop 1, 0.30->-1.23->-0.13!=0.24, -0.72->-0.08->-0.77!=-1.00, Loop 2, -1.23->-0.13->-0.88!=-1.13, -0.08->-0.77->-0.32!=-0.17, Loop 3, Loop 4, Loop 5, Loop 6, \n",
      " (0.300, 1.500, 55%): , Loop 0, Loop 1, 0.30->-1.32->0.03!=0.47, -0.93->-0.05->-0.83!=-1.09, Loop 2, -1.32->0.03->-0.90!=-1.21, -0.05->-0.83->-0.30!=-0.12, Loop 3, 0.03->-0.90->-0.15!=0.10, Loop 4, -0.90->-0.15->-0.78!=-0.98, -0.30->-0.54->-0.32!=-0.24, Loop 5, Loop 6, Loop 7, Loop 8, \n",
      " (0.600, -1.500, 64%): , Loop 0, Loop 1, -2.05->1.70->-1.17!=-2.13, 0.24->-1.63->-0.07!=0.45, Loop 2, Loop 3, -1.17->0.19->-0.93!=-1.31, -0.07->-0.97->-0.29!=-0.06, Loop 4, Loop 5, -0.93->-0.18->-0.78!=-0.98, -0.29->-0.55->-0.32!=-0.25, Loop 6, Loop 7, Loop 8, Loop 9, \n",
      " (0.600, -1.200, 64%): , Loop 0, Loop 1, -1.93->1.28->-1.30!=-2.16, 0.06->-1.57->-0.12!=0.36, Loop 2, Loop 3, -1.30->0.38->-0.92!=-1.36, -0.12->-1.01->-0.27!=-0.02, Loop 4, Loop 5, -0.92->-0.17->-0.78!=-0.98, -0.27->-0.54->-0.32!=-0.25, Loop 6, Loop 7, Loop 8, Loop 9, \n",
      " (0.600, -0.900, 64%): , Loop 0, Loop 1, -1.36->0.60->-1.29!=-1.92, -0.01->-1.17->-0.25!=0.05, Loop 2, 0.60->-1.29->-0.21!=0.15, Loop 3, -1.29->-0.21->-0.83!=-1.04, -0.25->-0.66->-0.33!=-0.22, Loop 4, Loop 5, Loop 6, Loop 7, \n",
      " (0.600, -0.600, 64%): , Loop 0, Loop 1, -1.26->0.42->-0.93!=-1.39, -0.03->-1.07->-0.27!=-0.00, Loop 2, Loop 3, -0.93->-0.16->-0.78!=-0.98, -0.27->-0.55->-0.32!=-0.24, Loop 4, Loop 5, Loop 6, Loop 7, \n",
      " (0.600, -0.300, 64%): , Loop 0, Loop 1, -1.13->0.01->-0.81!=-1.09, -0.23->-0.61->-0.27!=-0.16, Loop 2, Loop 3, Loop 4, Loop 5, \n",
      " (0.600, 0.000, 64%): , Loop 0, Loop 1, -0.98->0.20->-0.92!=-1.29, 0.00->-0.92->-0.28!=-0.07, Loop 2, Loop 3, -0.92->-0.18->-0.78!=-0.97, -0.28->-0.54->-0.32!=-0.25, Loop 4, Loop 5, Loop 6, Loop 7, \n",
      " (0.600, 0.300, 64%): , Loop 0, Loop 1, -0.81->-0.02->-0.89!=-1.18, -0.02->-0.79->-0.30!=-0.14, Loop 2, -0.02->-0.89->-0.18!=0.06, Loop 3, -0.89->-0.18->-0.77!=-0.97, -0.30->-0.53->-0.32!=-0.25, Loop 4, Loop 5, Loop 6, Loop 7, \n",
      " (0.600, 0.600, 64%): , Loop 0, Loop 1, Loop 2, \n",
      " (0.600, 0.900, 64%): , Loop 0, Loop 1, Loop 2, Loop 3, \n",
      " (0.600, 1.200, 64%): , Loop 0, Loop 1, 0.09->-1.09->-0.24!=0.04, -0.55->-0.15->-0.67!=-0.85, Loop 2, -1.09->-0.24->-0.84!=-1.03, -0.15->-0.67->-0.34!=-0.23, Loop 3, Loop 4, Loop 5, Loop 6, \n",
      " (0.600, 1.500, 64%): , Loop 0, Loop 1, 0.28->-1.25->-0.12!=0.26, -0.77->-0.08->-0.78!=-1.02, Loop 2, -1.25->-0.12->-0.89!=-1.14, -0.08->-0.78->-0.32!=-0.16, Loop 3, Loop 4, Loop 5, Loop 6, \n",
      " (0.900, -1.500, 73%): , Loop 0, Loop 1, -2.11->1.64->-1.21!=-2.17, 0.26->-1.79->-0.17!=0.37, Loop 2, Loop 3, -1.21->0.14->-0.92!=-1.28, -0.17->-0.91->-0.29!=-0.08, Loop 4, Loop 5, -0.92->-0.19->-0.78!=-0.97, -0.29->-0.54->-0.33!=-0.25, Loop 6, Loop 7, Loop 8, Loop 9, \n",
      " (0.900, -1.200, 73%): , Loop 0, Loop 1, -2.02->1.56->-1.20!=-2.12, 0.09->-1.44->-0.17!=0.25, Loop 2, Loop 3, -1.20->0.12->-0.92!=-1.27, -0.17->-0.90->-0.29!=-0.09, Loop 4, Loop 5, -0.92->-0.19->-0.78!=-0.97, -0.29->-0.54->-0.33!=-0.25, Loop 6, Loop 7, Loop 8, Loop 9, \n",
      " (0.900, -0.900, 73%): , Loop 0, Loop 1, -1.91->1.22->-1.31!=-2.15, 0.03->-1.51->-0.16!=0.29, Loop 2, Loop 3, -1.31->0.35->-0.92!=-1.34, -0.16->-0.98->-0.27!=-0.03, Loop 4, Loop 5, -0.92->-0.17->-0.78!=-0.98, -0.27->-0.54->-0.32!=-0.25, Loop 6, Loop 7, Loop 8, Loop 9, \n",
      " (0.900, -0.600, 73%): , Loop 0, Loop 1, -1.78->1.06->-1.33!=-2.13, 0.01->-1.47->-0.18!=0.25, Loop 2, Loop 3, -1.33->0.39->-0.91!=-1.35, -0.18->-0.97->-0.26!=-0.03, Loop 4, Loop 5, -0.91->-0.17->-0.78!=-0.98, -0.26->-0.54->-0.32!=-0.25, Loop 6, Loop 7, Loop 8, Loop 9, \n",
      " (0.900, -0.300, 73%): , Loop 0, Loop 1, -1.22->0.30->-0.95!=-1.37, -0.00->-1.07->-0.28!=-0.02, Loop 2, Loop 3, -0.95->-0.17->-0.78!=-0.99, -0.28->-0.55->-0.32!=-0.24, Loop 4, Loop 5, Loop 6, Loop 7, \n",
      " (0.900, 0.000, 73%): , Loop 0, Loop 1, -1.09->0.19->-0.94!=-1.32, 0.00->-0.99->-0.29!=-0.06, Loop 2, Loop 3, -0.94->-0.18->-0.78!=-0.98, -0.29->-0.55->-0.32!=-0.25, Loop 4, Loop 5, Loop 6, Loop 7, \n",
      " (0.900, 0.300, 73%): , Loop 0, Loop 1, -0.95->0.20->-0.92!=-1.29, 0.03->-0.93->-0.28!=-0.07, Loop 2, Loop 3, -0.92->-0.18->-0.78!=-0.97, -0.28->-0.54->-0.32!=-0.25, Loop 4, Loop 5, Loop 6, Loop 7, \n",
      " (0.900, 0.600, 73%): , Loop 0, Loop 1, Loop 2, \n",
      " (0.900, 0.900, 73%): , Loop 0, Loop 1, Loop 2, \n",
      " (0.900, 1.200, 73%): , Loop 0, Loop 1, Loop 2, \n",
      " (0.900, 1.500, 73%): , Loop 0, Loop 1, -0.10->-1.05->-0.29!=-0.03, -0.61->-0.20->-0.48!=-0.57, Loop 2, Loop 3, Loop 4, Loop 5, \n",
      " (1.200, -1.500, 82%): , Loop 0, Loop 1, -2.14->1.62->-1.20!=-2.14, 0.28->-1.58->-0.12!=0.37, Loop 2, Loop 3, -1.20->0.17->-0.93!=-1.30, -0.12->-0.95->-0.29!=-0.07, Loop 4, Loop 5, -0.93->-0.18->-0.78!=-0.98, -0.29->-0.54->-0.32!=-0.25, Loop 6, Loop 7, Loop 8, Loop 9, \n",
      " (1.200, -1.200, 82%): , Loop 0, Loop 1, -2.07->1.53->-1.22!=-2.13, 0.11->-1.48->-0.16!=0.28, Loop 2, Loop 3, -1.22->0.15->-0.92!=-1.28, -0.16->-0.92->-0.29!=-0.08, Loop 4, Loop 5, -0.92->-0.19->-0.78!=-0.97, -0.29->-0.54->-0.33!=-0.25, Loop 6, Loop 7, Loop 8, Loop 9, \n",
      " (1.200, -0.900, 82%): , Loop 0, Loop 1, -1.98->1.32->-1.30!=-2.17, 0.06->-1.59->-0.11!=0.38, Loop 2, Loop 3, -1.30->0.39->-0.93!=-1.36, -0.11->-1.01->-0.27!=-0.02, Loop 4, Loop 5, -0.93->-0.17->-0.78!=-0.98, -0.27->-0.54->-0.32!=-0.25, Loop 6, Loop 7, Loop 8, Loop 9, \n",
      " (1.200, -0.600, 82%): , Loop 0, Loop 1, -1.87->1.19->-1.31!=-2.15, 0.05->-1.51->-0.16!=0.29, Loop 2, Loop 3, -1.31->0.36->-0.92!=-1.35, -0.16->-0.98->-0.27!=-0.03, Loop 4, Loop 5, -0.92->-0.17->-0.78!=-0.98, -0.27->-0.54->-0.32!=-0.25, Loop 6, Loop 7, Loop 8, Loop 9, \n",
      " (1.200, -0.300, 82%): , Loop 0, Loop 1, -1.74->1.06->-1.29!=-2.07, 0.05->-1.26->-0.22!=0.13, Loop 2, Loop 3, -1.29->0.17->-0.92!=-1.28, -0.22->-0.91->-0.28!=-0.08, Loop 4, Loop 5, -0.92->-0.19->-0.78!=-0.97, -0.28->-0.54->-0.32!=-0.25, Loop 6, Loop 7, Loop 8, Loop 9, \n",
      " (1.200, 0.000, 82%): , Loop 0, Loop 1, -1.59->0.84->-1.33!=-2.05, 0.00->-1.33->-0.23!=0.14, Loop 2, 0.84->-1.33->-0.08!=0.34, Loop 3, -1.33->-0.08->-0.94!=-1.23, -0.23->-0.93->-0.33!=-0.12, Loop 4, -0.08->-0.94->-0.39!=-0.21, Loop 5, Loop 6, Loop 7, Loop 8, \n",
      " (1.200, 0.300, 82%): , Loop 0, Loop 1, -1.05->0.36->-0.94!=-1.37, 0.08->-1.05->-0.27!=-0.01, Loop 2, Loop 3, -0.94->-0.17->-0.78!=-0.98, -0.27->-0.55->-0.32!=-0.24, Loop 4, Loop 5, Loop 6, Loop 7, \n",
      " (1.200, 0.600, 82%): , Loop 0, Loop 1, -0.91->0.13->-0.79!=-1.09, -0.29->-0.54->-0.24!=-0.14, Loop 2, -0.54->-0.24->-0.43!=-0.50, Loop 3, Loop 4, Loop 5, \n",
      " (1.200, 0.900, 82%): , Loop 0, Loop 1, Loop 2, Loop 3, \n",
      " (1.200, 1.200, 82%): , Loop 0, Loop 1, Loop 2, Loop 3, \n",
      " (1.200, 1.500, 82%): , Loop 0, Loop 1, Loop 2, Loop 3, \n",
      " (1.500, -1.500, 91%): , Loop 0, Loop 1, -2.14->1.64->-1.19!=-2.13, 0.29->-1.57->-0.12!=0.36, Loop 2, Loop 3, -1.19->0.16->-0.93!=-1.29, -0.12->-0.94->-0.29!=-0.07, Loop 4, Loop 5, -0.93->-0.19->-0.78!=-0.98, -0.29->-0.54->-0.32!=-0.25, Loop 6, Loop 7, Loop 8, Loop 9, \n",
      " (1.500, -1.200, 91%): , Loop 0, Loop 1, -2.07->1.54->-1.22!=-2.13, 0.13->-1.49->-0.16!=0.29, Loop 2, Loop 3, -1.22->0.15->-0.92!=-1.28, -0.16->-0.92->-0.29!=-0.08, Loop 4, Loop 5, -0.92->-0.19->-0.78!=-0.97, -0.29->-0.54->-0.33!=-0.25, Loop 6, Loop 7, Loop 8, Loop 9, \n",
      " (1.500, -0.900, 91%): , Loop 0, Loop 1, -2.00->1.56->-1.23!=-2.16, 0.08->-1.64->-0.07!=0.45, Loop 2, Loop 3, -1.23->0.24->-0.94!=-1.33, -0.07->-1.01->-0.28!=-0.04, Loop 4, Loop 5, -0.94->-0.18->-0.78!=-0.98, -0.28->-0.55->-0.32!=-0.25, Loop 6, Loop 7, Loop 8, Loop 9, \n",
      " (1.500, -0.600, 91%): , Loop 0, Loop 1, -1.91->1.27->-1.30!=-2.16, 0.07->-1.57->-0.12!=0.36, Loop 2, Loop 3, -1.30->0.39->-0.92!=-1.36, -0.12->-1.01->-0.27!=-0.02, Loop 4, Loop 5, -0.92->-0.17->-0.78!=-0.98, -0.27->-0.54->-0.32!=-0.25, Loop 6, Loop 7, Loop 8, Loop 9, \n",
      " (1.500, -0.300, 91%): , Loop 0, Loop 1, -1.81->1.18->-1.32!=-2.15, 0.08->-1.53->-0.15!=0.30, Loop 2, Loop 3, -1.32->0.37->-0.92!=-1.35, -0.15->-0.99->-0.27!=-0.03, Loop 4, Loop 5, -0.92->-0.17->-0.78!=-0.98, -0.27->-0.54->-0.32!=-0.25, Loop 6, Loop 7, Loop 8, Loop 9, \n",
      " (1.500, 0.000, 91%): , Loop 0, Loop 1, -1.69->0.96->-1.33!=-2.09, 0.00->-1.40->-0.21!=0.19, Loop 2, Loop 3, -1.33->0.36->-0.91!=-1.34, -0.21->-0.95->-0.26!=-0.03, Loop 4, Loop 5, -0.91->-0.17->-0.78!=-0.98, -0.26->-0.54->-0.32!=-0.25, Loop 6, Loop 7, Loop 8, Loop 9, \n",
      " (1.500, 0.300, 91%): , Loop 0, Loop 1, -1.55->1.05->-1.29!=-2.07, 0.24->-1.28->-0.22!=0.13, Loop 2, Loop 3, -1.29->0.18->-0.92!=-1.29, -0.22->-0.92->-0.28!=-0.07, Loop 4, Loop 5, -0.92->-0.19->-0.78!=-0.97, -0.28->-0.54->-0.32!=-0.25, Loop 6, Loop 7, Loop 8, Loop 9, \n",
      " (1.500, 0.600, 91%): , Loop 0, Loop 1, -1.38->0.45->-0.92!=-1.38, -0.17->-1.01->-0.26!=-0.01, Loop 2, Loop 3, -0.92->-0.17->-0.78!=-0.98, -0.26->-0.54->-0.32!=-0.25, Loop 4, Loop 5, Loop 6, Loop 7, \n",
      " (1.500, 0.900, 91%): , Loop 0, Loop 1, -0.86->-0.07->-0.76!=-1.00, Loop 2, -0.50->-0.22->-0.42!=-0.49, Loop 3, Loop 4, Loop 5, \n",
      " (1.500, 1.200, 91%): , Loop 0, Loop 1, -0.70->-0.40->-0.60!=-0.67, Loop 2, Loop 3, Loop 4, \n",
      " (1.500, 1.500, 91%): , Loop 0, Loop 1, Loop 2, FCI densities (per spin): [0.72411653 0.38794174 0.38794174 0.72411653 0.38794174 0.38794174]\n"
     ]
    }
   ],
   "source": [
    "lpfet.COMPENSATION_1_RATIO = 0.75\n",
    "x = np.arange(-1.5, 1.6, 0.3)\n",
    "mol1 = lpfet.Molecule(6,6, \"_6ring2sites_pot_adjustment_vext-1_6ring2sites_pot_adjustment_vext-1\")\n",
    "mol_full = lpfet.class_Quant_NBody.QuantNBody(6, 6)\n",
    "mol_full.build_operator_a_dagger_a()\n",
    "n = []\n",
    "\n",
    "iter_num = []\n",
    "pmv = 1\n",
    "t, v_ext, u = lpfet.generate_from_graph(\n",
    "            {0: {'v': -pmv, 'U': 1}, 1: {'v': pmv, 'U': 1}, 2: {'v': pmv, 'U': 1}, 3: {'v': -pmv, 'U': 1},\n",
    "             4: {'v': pmv, 'U': 1}, 5: {'v': pmv, 'U': 1}},\n",
    "            {(0, 1): 1, (1, 2): 1, (2, 3): 1, (3, 4): 1, (4, 5): 1, (0, 5): 1})\n",
    "first = True\n",
    "mu_hxc_0 = []\n",
    "mu_hxc_1 = []\n",
    "for i_id, i in enumerate(x):\n",
    "    n.append([])\n",
    "    mu_hxc_0.append([])\n",
    "    mu_hxc_1.append([])\n",
    "    iter_num.append([])\n",
    "    for j in x:\n",
    "        if not first:\n",
    "            mol1.clear_object(\"_6ring2sites_pot_adjustment_vext-1_6ring2sites_pot_adjustment_vext-1\")\n",
    "        first = False\n",
    "        print(f'\\n ({i:.3f}, {j:.3f}, {100 * i_id/len(x):.0f}%): ', end=\", \")\n",
    "        \n",
    "        mol1.add_parameters(u, t, v_ext, [[0, 3], [1, 2, 4, 5]])\n",
    "        mol1.mu_hxc = np.array([i, j, j, i, j, j])\n",
    "        iter_num[-1].append(mol1.self_consistent_loop(num_iter=20, tolerance=0.000001, oscillation_compensation=1))\n",
    "        n[-1].append(mol1.n_ks[0])\n",
    "        mu_hxc_0[-1].append(mol1.mu_hxc[0])\n",
    "        mu_hxc_1[-1].append(mol1.mu_hxc[1])\n",
    "\n",
    "y_ab, rest =mol1.compare_densities_FCI(pass_object=mol_full)\n",
    "y_ab /= 2\n",
    "n_ref = y_ab.diagonal()[0]"
   ]
  },
  {
   "cell_type": "markdown",
   "id": "979fd3b0-39d7-4b97-a640-38677214bdc7",
   "metadata": {},
   "source": [
    "## Usual graphs new"
   ]
  },
  {
   "cell_type": "code",
   "execution_count": 58,
   "id": "a2a37bb1-1cc0-40b8-a5a4-4915da123d41",
   "metadata": {},
   "outputs": [
    {
     "data": {
      "text/plain": [
       "' '"
      ]
     },
     "execution_count": 58,
     "metadata": {},
     "output_type": "execute_result"
    },
    {
     "data": {
      "image/png": "[encoded data removed]",
      "text/plain": [
       "<Figure size 432x288 with 2 Axes>"
      ]
     },
     "metadata": {
      "needs_background": "light"
     },
     "output_type": "display_data"
    }
   ],
   "source": [
    "iter_num_exaggerated = np.array(iter_num).copy() + 1\n",
    "# iter_num_exaggerated[iter_num_exaggerated == 20 ] = np.nan\n",
    "# plt.imshow(iter_num_exaggerated, cmap='viridis', interpolation='nearest')\n",
    "# plt.colorbar()\n",
    "fig, ax = plt.subplots(1,1)\n",
    "ax.set_facecolor('k')\n",
    "sns.heatmap(iter_num_exaggerated, mask=(iter_num_exaggerated == 20), square=True, linewidths=0.01, linecolor='k', cmap='viridis');\n",
    "ax.set_facecolor('k')\n",
    "plt.title(f'Number of iterations\\n+-v_ext={pmv:.1f}')\n",
    "plt.gca().set_xticks(np.arange(len(x))+0.5)\n",
    "plt.gca().set_yticks(np.arange(len(x))+0.5)\n",
    "plt.yticks(rotation= 0)\n",
    "plt.gca().set_xticklabels([f'{i:.1f}' for i in x])\n",
    "plt.gca().set_yticklabels([f'{i:.1f}' for i in x])\n",
    "plt.xlabel('Starting potential mu_hxc of sites 1, 2, 4, 5')\n",
    "plt.ylabel('Starting potential mu_hxc of sites 0, 3')\n",
    "plt.savefig('results/6ring2_v5/changing-starting-hxc_iter-num_vext-1_COsc.png', dpi=150)\n",
    "' '\n"
   ]
  },
  {
   "cell_type": "code",
   "execution_count": 60,
   "id": "e5a2c0fc-6ac0-40fe-b4c8-8c4846dabc0c",
   "metadata": {},
   "outputs": [
    {
     "data": {
      "text/plain": [
       "' '"
      ]
     },
     "execution_count": 60,
     "metadata": {},
     "output_type": "execute_result"
    },
    {
     "data": {
      "image/png": "[encoded data removed]",
      "text/plain": [
       "<Figure size 432x288 with 2 Axes>"
      ]
     },
     "metadata": {
      "needs_background": "light"
     },
     "output_type": "display_data"
    }
   ],
   "source": [
    "n_ref = np.array(n_ref)\n",
    "n_array = np.array(n)\n",
    "diff_array = n_array-n_ref\n",
    "# essentials.print_matrix(n_array-n_ref[0])\n",
    "fig, ax = plt.subplots(1,1)\n",
    "sns.heatmap(diff_array, mask=(iter_num_exaggerated == 20), square=True, linewidths=0.01, linecolor='k', cmap='coolwarm', norm=mcolors.CenteredNorm());\n",
    "ax.set_facecolor('k')\n",
    "plt.title('Error in density where simulation converged\\n+-v_ext=1.0')\n",
    "plt.gca().set_xticks(np.arange(len(x))+0.5)\n",
    "plt.gca().set_yticks(np.arange(len(x))+0.5)\n",
    "plt.yticks(rotation= 0)\n",
    "plt.gca().set_xticklabels([f'{i:.1f}' for i in x])\n",
    "plt.gca().set_yticklabels([f'{i:.1f}' for i in x])\n",
    "plt.xlabel('Starting potential mu_hxc of sites 1, 2, 4, 5')\n",
    "plt.ylabel('Starting potential mu_hxc of sites 0, 3')\n",
    "plt.savefig('results/6ring2_v5/changing-starting-hxc_error-broad_vext-1_COsc.png', dpi=150)\n",
    "\n",
    "' '"
   ]
  },
  {
   "cell_type": "code",
   "execution_count": 61,
   "id": "497a1b2d-9a80-474a-851e-b44669dff6ca",
   "metadata": {},
   "outputs": [
    {
     "data": {
      "text/plain": [
       "' '"
      ]
     },
     "execution_count": 61,
     "metadata": {},
     "output_type": "execute_result"
    },
    {
     "data": {
      "image/png": "[encoded data removed]",
      "text/plain": [
       "<Figure size 432x288 with 2 Axes>"
      ]
     },
     "metadata": {
      "needs_background": "light"
     },
     "output_type": "display_data"
    }
   ],
   "source": [
    "\n",
    "fig, ax = plt.subplots(1,1)\n",
    "ax.set_facecolor('k')\n",
    "sns.heatmap(diff_array, mask=(iter_num_exaggerated == 20), square=True, linewidths=0.01, linecolor='k', cmap='bwr', norm=mcolors.CenteredNorm(halfrange=0.1));\n",
    "plt.title('Error in density where simulation converged\\n+-v_ext=1.0')\n",
    "plt.gca().set_xticks(np.arange(len(x))+0.5)\n",
    "plt.gca().set_yticks(np.arange(len(x))+0.5)\n",
    "plt.yticks(rotation= 0)\n",
    "plt.gca().set_xticklabels([f'{i:.1f}' for i in x])\n",
    "plt.gca().set_yticklabels([f'{i:.1f}' for i in x])\n",
    "plt.xlabel('Starting potential mu_hxc of sites 1, 2, 4, 5')\n",
    "plt.ylabel('Starting potential mu_hxc of sites 0, 3')\n",
    "plt.savefig('results/6ring2_v5/changing-starting-hxc_error-narrow_vext-1_COsc.png', dpi=150)\n",
    "' '"
   ]
  },
  {
   "cell_type": "markdown",
   "id": "36959c29-9dab-40bc-8154-c5a3ae419b87",
   "metadata": {
    "tags": []
   },
   "source": [
    "### Usual graphs"
   ]
  },
  {
   "cell_type": "code",
   "execution_count": 88,
   "id": "9e2e43d0-3ab9-405f-8694-f968bd1dc2eb",
   "metadata": {},
   "outputs": [
    {
     "name": "stdout",
     "output_type": "stream",
     "text": [
      "Result:  0.013226654316701692 +- 0.08989564420985209 (filtered out 0 outliers)\n"
     ]
    },
    {
     "data": {
      "image/png": "[encoded data removed]",
      "text/plain": [
       "<Figure size 432x288 with 1 Axes>"
      ]
     },
     "metadata": {
      "needs_background": "light"
     },
     "output_type": "display_data"
    }
   ],
   "source": [
    "D1_diff_array = diff_array.flatten()\n",
    "# D1_diff_array = [i for i in D1_diff_array if -0.2 < i < .2]\n",
    "plt.hist(D1_diff_array, bins=30)\n",
    "plt.xlabel('Error (n-n_ref)')\n",
    "plt.ylabel('Number of experiments in bin')\n",
    "print('Result: ', np.average(D1_diff_array), '+-', np.std(D1_diff_array), f'(filtered out {len(diff_array.flatten())-len(D1_diff_array)} outliers)')\n",
    "plt.savefig('results/6ring2_v5/Histogram_all_vext-1_COsc.png', dpi=150)"
   ]
  },
  {
   "cell_type": "code",
   "execution_count": 89,
   "id": "7949ca2c-316e-4adf-8058-d9665bd4792e",
   "metadata": {},
   "outputs": [
    {
     "name": "stdout",
     "output_type": "stream",
     "text": [
      "Result:  0.024810997912068696 +- 0.008564859633802244 (filtered out 2 outliers)\n"
     ]
    },
    {
     "data": {
      "image/png": "[encoded data removed]",
      "text/plain": [
       "<Figure size 432x288 with 1 Axes>"
      ]
     },
     "metadata": {
      "needs_background": "light"
     },
     "output_type": "display_data"
    }
   ],
   "source": [
    "\n",
    "limit = 0.2\n",
    "D1_diff_array = [i for i in diff_array.flatten() if -limit < i <limit ]\n",
    "plt.hist(D1_diff_array, bins=20)\n",
    "plt.xlabel('Error (n-n_ref)')\n",
    "plt.ylabel('Number of experiments in bin')\n",
    "plt.title(f'Filtered out  {len(diff_array.flatten())-len(D1_diff_array)} outliers: {\", \".join([f\"{i:.2f}\" for i in diff_array.flatten() if not (-limit < i <limit)])}')\n",
    "print('Result: ', np.average(D1_diff_array), '+-', np.std(D1_diff_array), f'(filtered out {len(diff_array.flatten())-len(D1_diff_array)} outliers)')\n",
    "plt.savefig('results/6ring2_v5/Histogram_narrow_vext-1_COsc.png', dpi=150)"
   ]
  },
  {
   "cell_type": "markdown",
   "id": "272863c3-4dd8-4458-b549-d6d8effb0f70",
   "metadata": {},
   "source": [
    "### mu_Hxc distribution"
   ]
  },
  {
   "cell_type": "code",
   "execution_count": 90,
   "id": "c63067e8-de41-47dc-be69-80424625db99",
   "metadata": {},
   "outputs": [
    {
     "name": "stdout",
     "output_type": "stream",
     "text": [
      "Result:  -0.763650593441649 +- 1.6468242290476254 (filtered out 6 outliers)\n"
     ]
    },
    {
     "data": {
      "image/png": "[encoded data removed]",
      "text/plain": [
       "<Figure size 432x288 with 1 Axes>"
      ]
     },
     "metadata": {
      "needs_background": "light"
     },
     "output_type": "display_data"
    }
   ],
   "source": [
    "D1_mu_hxc_0 = np.array(mu_hxc_0).flatten()\n",
    "# D1_diff_array = [i for i in D1_diff_array if -0.2 < i < .2]\n",
    "plt.hist(D1_mu_hxc_0, bins=30)\n",
    "print('Result: ', np.average(D1_mu_hxc_0), '+-', np.std(D1_mu_hxc_0), '(filtered out 6 outliers)')"
   ]
  },
  {
   "cell_type": "code",
   "execution_count": 104,
   "id": "ac748b07-9716-437f-87d2-85fb1164432d",
   "metadata": {},
   "outputs": [
    {
     "name": "stdout",
     "output_type": "stream",
     "text": [
      "Result:  -0.5637063192870674 +- 0.05534682922693623 2 outliers: -17.13, -8.19\n"
     ]
    },
    {
     "data": {
      "image/png": "[encoded data removed]",
      "text/plain": [
       "<Figure size 432x288 with 1 Axes>"
      ]
     },
     "metadata": {
      "needs_background": "light"
     },
     "output_type": "display_data"
    }
   ],
   "source": [
    "D1_mu_hxc_0 = np.array(mu_hxc_0).flatten()\n",
    "limit = 2\n",
    "D1_mu_hxc_0 = [i for i in D1_mu_hxc_0 if -limit < i < limit]\n",
    "plt.hist(D1_mu_hxc_0, bins=30, color='k')\n",
    "plt.xlabel(\"Hxc chemical potential on site #1\")\n",
    "plt.ylabel('count')\n",
    "string1 = f'{len(np.array(mu_hxc_0).flatten())-len(D1_mu_hxc_0)} outliers: {\", \".join([f\"{i:.2f}\" for i in np.array(mu_hxc_0).flatten() if not (-limit < i <limit)])}'\n",
    "plt.title(f'Histogram of v_Hxc on site 1; '+string1)\n",
    "print('Result: ', np.average(D1_mu_hxc_0), '+-', np.std(D1_mu_hxc_0),string1)\n",
    "plt.savefig('results/6ring2_v5/Histogram_v-Hxc-0_vext-1_COsc.png', dpi=150)"
   ]
  },
  {
   "cell_type": "code",
   "execution_count": 105,
   "id": "992dfbbc-aa20-4af0-9d08-555956400c72",
   "metadata": {},
   "outputs": [
    {
     "name": "stdout",
     "output_type": "stream",
     "text": [
      "Result:  -0.41049495531238434 +- 0.0656249363899794 2 outliers: -1.16, -1.79\n"
     ]
    },
    {
     "data": {
      "image/png": "[encoded data removed]",
      "text/plain": [
       "<Figure size 432x288 with 1 Axes>"
      ]
     },
     "metadata": {
      "needs_background": "light"
     },
     "output_type": "display_data"
    }
   ],
   "source": [
    "D1_mu_hxc_1 = np.array(mu_hxc_1).flatten()\n",
    "limit = 1\n",
    "D1_mu_hxc_1 = [i for i in D1_mu_hxc_1 if -limit < i < limit]\n",
    "plt.hist(D1_mu_hxc_1, bins=30, color='k')\n",
    "plt.xlabel(\"Hxc chemical potential on site #1\")\n",
    "plt.ylabel('count')\n",
    "string1 = f'{len(np.array(mu_hxc_1).flatten())-len(D1_mu_hxc_1)} outliers: {\", \".join([f\"{i:.2f}\" for i in np.array(mu_hxc_1).flatten() if not (-limit < i <limit)])}'\n",
    "plt.title(f'Histogram of v_Hxc on site 1; '+string1)\n",
    "print('Result: ', np.average(D1_mu_hxc_1), '+-', np.std(D1_mu_hxc_1),string1)\n",
    "plt.savefig('results/6ring2_v5/Histogram_v-Hxc-1_vext-1_COsc.png', dpi=150)"
   ]
  },
  {
   "cell_type": "markdown",
   "id": "a5ce0b0e-6baf-4994-9fc3-b95100caa3e1",
   "metadata": {},
   "source": [
    "Yaay it looks like the simulation converged all the time even though some of the simulations look to give wrong results (2 out of 121). \n"
   ]
  }
 ],
 "metadata": {
  "kernelspec": {
   "display_name": "Python 3 (ipykernel)",
   "language": "python",
   "name": "python3"
  },
  "language_info": {
   "codemirror_mode": {
    "name": "ipython",
    "version": 3
   },
   "file_extension": ".py",
   "mimetype": "text/x-python",
   "name": "python",
   "nbconvert_exporter": "python",
   "pygments_lexer": "ipython3",
   "version": "3.8.12"
  },
  "toc-autonumbering": true
 },
 "nbformat": 4,
 "nbformat_minor": 5
}
