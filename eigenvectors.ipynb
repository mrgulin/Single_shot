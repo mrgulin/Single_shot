{
 "cells": [
  {
   "cell_type": "code",
   "execution_count": 3,
   "metadata": {
    "collapsed": true
   },
   "outputs": [],
   "source": [
    "import numpy as np\n",
    "from single_shot import print_matrix\n",
    "import single_shot"
   ]
  },
  {
   "cell_type": "code",
   "execution_count": 4,
   "outputs": [],
   "source": [
    "def calculate_gamma(ei_vec):\n",
    "    Ne = 18\n",
    "    N = 10\n",
    "    gamma = np.zeros((N, N), dtype=np.float64)\n",
    "    for k in range(int(Ne / 2)):  # go through all orbitals that are occupied!\n",
    "        vec_i = ei_vec[:, k][np.newaxis]\n",
    "        gamma += vec_i.T @ vec_i  #\n",
    "        # for i in range(N):\n",
    "        #     for j in range(N):\n",
    "        #         gamma[i, j] += ei_vec[i, k] * ei_vec[j, k]\n",
    "    return gamma"
   ],
   "metadata": {
    "collapsed": false,
    "pycharm": {
     "name": "#%%\n"
    }
   }
  },
  {
   "cell_type": "code",
   "execution_count": 5,
   "outputs": [
    {
     "name": "stdout",
     "output_type": "stream",
     "text": [
      "calculation with Ns=10, Ne=18, density=1.8\n",
      "   +0.000000     -1.000000     +0.000000     +0.000000     +0.000000     +0.000000     +0.000000     +0.000000     +0.000000     -1.000000\n",
      "   -1.000000     +0.000000     -1.000000     +0.000000     +0.000000     +0.000000     +0.000000     +0.000000     +0.000000     +0.000000\n",
      "   +0.000000     -1.000000     +0.000000     -1.000000     +0.000000     +0.000000     +0.000000     +0.000000     +0.000000     +0.000000\n",
      "   +0.000000     +0.000000     -1.000000     +0.000000     -1.000000     +0.000000     +0.000000     +0.000000     +0.000000     +0.000000\n",
      "   +0.000000     +0.000000     +0.000000     -1.000000     +0.000000     -1.000000     +0.000000     +0.000000     +0.000000     +0.000000\n",
      "   +0.000000     +0.000000     +0.000000     +0.000000     -1.000000     +0.000000     -1.000000     +0.000000     +0.000000     +0.000000\n",
      "   +0.000000     +0.000000     +0.000000     +0.000000     +0.000000     -1.000000     +0.000000     -1.000000     +0.000000     +0.000000\n",
      "   +0.000000     +0.000000     +0.000000     +0.000000     +0.000000     +0.000000     -1.000000     +0.000000     -1.000000     +0.000000\n",
      "   +0.000000     +0.000000     +0.000000     +0.000000     +0.000000     +0.000000     +0.000000     -1.000000     +0.000000     -1.000000\n",
      "   -1.000000     +0.000000     +0.000000     +0.000000     +0.000000     +0.000000     +0.000000     +0.000000     -1.000000     +0.000000\n"
     ]
    }
   ],
   "source": [
    "obj = single_shot.Householder(10, 18, 8)\n",
    "obj.calculate_one()\n",
    "print_matrix(obj.h)"
   ],
   "metadata": {
    "collapsed": false,
    "pycharm": {
     "name": "#%%\n"
    }
   }
  },
  {
   "cell_type": "markdown",
   "source": [
    "# This is done by numpy"
   ],
   "metadata": {
    "collapsed": false,
    "pycharm": {
     "name": "#%% md\n"
    }
   }
  },
  {
   "cell_type": "code",
   "execution_count": 6,
   "outputs": [],
   "source": [
    "ei_val, ei_vec = np.linalg.eig(obj.h)  # v[:,i] corresponds to eigval w[i]\n",
    "idx = ei_val.argsort()[::1] # Sorting matrix and vector by ascending order\n",
    "ei_val = ei_val[idx]\n",
    "ei_vec = ei_vec[:, idx]\n"
   ],
   "metadata": {
    "collapsed": false,
    "pycharm": {
     "name": "#%%\n"
    }
   }
  },
  {
   "cell_type": "code",
   "execution_count": 7,
   "outputs": [
    {
     "data": {
      "text/plain": "array([[ 0.91512823,  0.06921725, -0.10220641,  0.08253605, -0.08022394,\n         0.09111379, -0.11753138,  0.13692925, -0.11516649,  0.12020366],\n       [ 0.06921725,  0.89779359,  0.08253605, -0.08022394,  0.09111379,\n        -0.11753138,  0.13692925, -0.11516649,  0.12020366, -0.08487177],\n       [-0.10220641,  0.08253605,  0.91977606,  0.09111379, -0.11753138,\n         0.13692925, -0.11516649,  0.12020366, -0.08487177,  0.06921725],\n       [ 0.08253605, -0.08022394,  0.09111379,  0.88246862,  0.13692925,\n        -0.11516649,  0.12020366, -0.08487177,  0.06921725, -0.10220641],\n       [-0.08022394,  0.09111379, -0.11753138,  0.13692925,  0.88483351,\n         0.12020366, -0.08487177,  0.06921725, -0.10220641,  0.08253605],\n       [ 0.09111379, -0.11753138,  0.13692925, -0.11516649,  0.12020366,\n         0.91512823,  0.06921725, -0.10220641,  0.08253605, -0.08022394],\n       [-0.11753138,  0.13692925, -0.11516649,  0.12020366, -0.08487177,\n         0.06921725,  0.89779359,  0.08253605, -0.08022394,  0.09111379],\n       [ 0.13692925, -0.11516649,  0.12020366, -0.08487177,  0.06921725,\n        -0.10220641,  0.08253605,  0.91977606,  0.09111379, -0.11753138],\n       [-0.11516649,  0.12020366, -0.08487177,  0.06921725, -0.10220641,\n         0.08253605, -0.08022394,  0.09111379,  0.88246862,  0.13692925],\n       [ 0.12020366, -0.08487177,  0.06921725, -0.10220641,  0.08253605,\n        -0.08022394,  0.09111379, -0.11753138,  0.13692925,  0.88483351]])"
     },
     "execution_count": 7,
     "metadata": {},
     "output_type": "execute_result"
    }
   ],
   "source": [
    "# Here is gamma calculated by numpys eigenvalues\n",
    "calculate_gamma(ei_vec)"
   ],
   "metadata": {
    "collapsed": false,
    "pycharm": {
     "name": "#%%\n"
    }
   }
  },
  {
   "cell_type": "markdown",
   "source": [
    "# Test if ei_vec are really eigenvectors:\n",
    "I calculated h * vec / ei_val - vec for each eigenvector:"
   ],
   "metadata": {
    "collapsed": false
   }
  },
  {
   "cell_type": "code",
   "execution_count": 8,
   "outputs": [
    {
     "name": "stdout",
     "output_type": "stream",
     "text": [
      "0 6.77927340424307e-32\n",
      "1 1.0496318196910435e-31\n",
      "2 9.976317111925882e-32\n",
      "3 1.6524478922842484e-31\n",
      "4 4.503064951220406e-32\n",
      "5 9.282982331946477e-32\n",
      "6 2.2400972665654037e-31\n",
      "7 8.108165065870263e-32\n",
      "8 4.126304905849653e-32\n",
      "9 6.77927340424307e-32\n"
     ]
    }
   ],
   "source": [
    "for i in range(len(obj.ei_val)):\n",
    "    print(i,np.sum(np.square(obj.h @ obj.ei_vec[:, i] / obj.ei_val[i] - obj.ei_vec[:, i])))"
   ],
   "metadata": {
    "collapsed": false,
    "pycharm": {
     "name": "#%%\n"
    }
   }
  },
  {
   "cell_type": "markdown",
   "source": [
    "They seem to be eigenvectors.\n",
    "We can also try to see if they are linear combination of ones that are calculated by fortran:"
   ],
   "metadata": {
    "collapsed": false,
    "pycharm": {
     "name": "#%% md\n"
    }
   }
  },
  {
   "cell_type": "code",
   "execution_count": 9,
   "outputs": [],
   "source": [
    "fr = np.loadtxt('ei_vec_10_18.txt')"
   ],
   "metadata": {
    "collapsed": false,
    "pycharm": {
     "name": "#%%\n"
    }
   }
  },
  {
   "cell_type": "code",
   "execution_count": 10,
   "outputs": [
    {
     "name": "stdout",
     "output_type": "stream",
     "text": [
      "vectors with indeces: 1 2\n",
      "-0.4039706251354577 0.9147711638063419 -0.8945505873693391 -0.4469651959772277\n",
      "\tsums of squares: 0.9999985481039417 0.9999986397777911\n",
      "\tDot product between i and j: -0.047499151907367934\n",
      "\tDot product between i and j in fr: -2.0282399998405864e-07\n",
      "vectors with indeces: 3 4\n",
      "0.3664891527221191 -0.9304227066508538 -0.9132220678515395 -0.40746257796626434\n",
      "\tsums of squares: 1.0000007121144776 1.0000002976539557\n",
      "\tDot product between i and j: 0.04442704210688851\n",
      "\tDot product between i and j in fr: -5.773760000243877e-07\n",
      "vectors with indeces: 5 6\n",
      "0.98286237087748 0.1843409200006014 -0.24189464670341743 0.9703025006707027\n",
      "\tsums of squares: 1.000000014873569 0.9999999629115901\n",
      "\tDot product between i and j: -0.0588830586875494\n",
      "\tDot product between i and j in fr: 3.4629799997715205e-07\n",
      "vectors with indeces: 7 8\n",
      "0.8631794649343396 0.5048972205578104 -0.6022227863097909 0.798327958460435\n",
      "\tsums of squares: 0.9999999920113352 0.9999998136103341\n",
      "\tDot product between i and j: -0.11675307527895265\n",
      "\tDot product between i and j in fr: 1.9562400000588953e-07\n"
     ]
    }
   ],
   "source": [
    "for i, j in ((1,2), (3,4), (5,6), (7,8)):\n",
    "    print('vectors with indeces:', i, j)\n",
    "    i_proj_i = np.dot(ei_vec[:,i], fr[:, i])\n",
    "    i_proj_j = np.dot(ei_vec[:,i], fr[:, j])\n",
    "    j_proj_i = np.dot(ei_vec[:,j], fr[:, i])\n",
    "    j_proj_j = np.dot(ei_vec[:,j], fr[:, j])\n",
    "    print(i_proj_i, i_proj_j, j_proj_i, j_proj_j)\n",
    "    print('\\tsums of squares:', i_proj_i ** 2 + i_proj_j  ** 2, j_proj_i ** 2 + j_proj_j  ** 2)\n",
    "    print('\\tDot product between i and j:', np.dot(ei_vec[:,i], ei_vec[:, j]))\n",
    "    print('\\tDot product between i and j in fr:', np.dot(fr[:,i], fr[:, j]))"
   ],
   "metadata": {
    "collapsed": false,
    "pycharm": {
     "name": "#%%\n"
    }
   }
  },
  {
   "cell_type": "markdown",
   "source": [
    "It looks like eigenvectors that are given by numpy with multiplicity >= 2 are not orthogonal (dot product is much higher than in fr and is\n",
    "in same order of magnitude as numeric error of 1RDM)\n",
    "Google said that if we want to make vectors orthogonal we should use\n",
    "https://en.wikipedia.org/wiki/Gram%E2%80%93Schmidt_process"
   ],
   "metadata": {
    "collapsed": false,
    "pycharm": {
     "name": "#%% md\n"
    }
   }
  },
  {
   "cell_type": "code",
   "execution_count": 11,
   "outputs": [
    {
     "name": "stdout",
     "output_type": "stream",
     "text": [
      "0.8631794649343396 0.5048972205578104 -0.6022227863097909 0.798327958460435\n",
      "\tsums of squares: 0.9999999920113352 0.9999998136103341\n",
      "\tDot product between i and j: 0.0\n",
      "\tDot product between i and j in fr: -2.0282399998405864e-07\n",
      "0.8631794649343396 0.5048972205578104 -0.6022227863097909 0.798327958460435\n",
      "\tsums of squares: 0.9999999920113352 0.9999998136103341\n",
      "\tDot product between i and j: 6.938893903907228e-18\n",
      "\tDot product between i and j in fr: -5.773760000243877e-07\n",
      "0.8631794649343396 0.5048972205578104 -0.6022227863097909 0.798327958460435\n",
      "\tsums of squares: 0.9999999920113352 0.9999998136103341\n",
      "\tDot product between i and j: 4.85722573273506e-17\n",
      "\tDot product between i and j in fr: 3.4629799997715205e-07\n",
      "0.8631794649343396 0.5048972205578104 -0.6022227863097909 0.798327958460435\n",
      "\tsums of squares: 0.9999999920113352 0.9999998136103341\n",
      "\tDot product between i and j: 1.3877787807814457e-17\n",
      "\tDot product between i and j in fr: 1.9562400000588953e-07\n"
     ]
    }
   ],
   "source": [
    "ei_vec_orth = ei_vec\n",
    "for i, j in ((1,2), (3,4), (5,6), (7,8)):\n",
    "    ei_vec[:, j] = ei_vec[:, j] - ei_vec[:, i] * (np.dot(ei_vec[:, j],ei_vec[:, i])/np.dot(ei_vec[:, i],ei_vec[:, i]))\n",
    "    print(i_proj_i, i_proj_j, j_proj_i, j_proj_j)\n",
    "    print('\\tsums of squares:', i_proj_i ** 2 + i_proj_j  ** 2, j_proj_i ** 2 + j_proj_j  ** 2)\n",
    "    print('\\tDot product between i and j:', np.dot(ei_vec[:,i], ei_vec[:, j]))\n",
    "    print('\\tDot product between i and j in fr:', np.dot(fr[:,i], fr[:, j]))"
   ],
   "metadata": {
    "collapsed": false,
    "pycharm": {
     "name": "#%%\n"
    }
   }
  },
  {
   "cell_type": "code",
   "execution_count": 12,
   "outputs": [
    {
     "name": "stdout",
     "output_type": "stream",
     "text": [
      "   +0.899156     +0.100071     -0.100043     +0.099599     -0.099443     +0.100844     -0.100071     +0.100043     -0.099599     +0.099443\n",
      "   +0.100071     +0.897875     +0.101037     -0.100611     +0.101359     -0.100071     +0.099527     -0.098431     +0.098004     -0.098762\n",
      "   -0.100043     +0.101037     +0.897307     +0.102798     -0.101239     +0.100043     -0.098431     +0.097489     -0.097594     +0.098633\n",
      "   +0.099599     -0.100611     +0.102798     +0.896678     +0.101482     -0.099599     +0.098004     -0.097594     +0.098117     -0.098875\n",
      "   -0.099443     +0.101359     -0.101239     +0.101482     +0.898319     +0.099443     -0.098762     +0.098633     -0.098875     +0.099083\n",
      "   +0.100844     -0.100071     +0.100043     -0.099599     +0.099443     +0.899156     +0.100071     -0.100043     +0.099599     -0.099443\n",
      "   -0.100071     +0.099527     -0.098431     +0.098004     -0.098762     +0.100071     +0.897875     +0.101037     -0.100611     +0.101359\n",
      "   +0.100043     -0.098431     +0.097489     -0.097594     +0.098633     -0.100043     +0.101037     +0.897307     +0.102798     -0.101239\n",
      "   -0.099599     +0.098004     -0.097594     +0.098117     -0.098875     +0.099599     -0.100611     +0.102798     +0.896678     +0.101482\n",
      "   +0.099443     -0.098762     +0.098633     -0.098875     +0.099083     -0.099443     +0.101359     -0.101239     +0.101482     +0.898319\n"
     ]
    }
   ],
   "source": [
    "print_matrix(calculate_gamma(ei_vec_orth))\n",
    "# orthogonalization didn't solve the problem"
   ],
   "metadata": {
    "collapsed": false,
    "pycharm": {
     "name": "#%%\n"
    }
   }
  },
  {
   "cell_type": "code",
   "execution_count": 13,
   "outputs": [],
   "source": [
    "from sympy import Matrix\n",
    "M = Matrix(obj.h)\n",
    "eig = M.eigenvects()"
   ],
   "metadata": {
    "collapsed": false,
    "pycharm": {
     "name": "#%%\n"
    }
   }
  },
  {
   "cell_type": "code",
   "execution_count": 20,
   "outputs": [
    {
     "name": "stdout",
     "output_type": "stream",
     "text": [
      "Eigenvalue -1.61803398874989 (-1.61803398874989), multiplicity 1\n",
      "Eigenvalue -2.00000000000000 (-2.00000000000000), multiplicity 1\n",
      "Eigenvalue -1.61803398874989 (-1.61803398874989), multiplicity 1\n",
      "Eigenvalue -0.618033988749895 (-0.618033988749895), multiplicity 1\n",
      "Eigenvalue -0.618033988749895 (-0.618033988749895), multiplicity 1\n",
      "Eigenvalue 0.618033988749895 (0.618033988749895), multiplicity 1\n",
      "Eigenvalue 0.618033988749895 (0.618033988749895), multiplicity 1\n",
      "Eigenvalue 2.00000000000000 (2.00000000000000), multiplicity 1\n",
      "Eigenvalue 1.61803398874989 (1.61803398874989), multiplicity 1\n",
      "Eigenvalue 1.61803398874989 (1.61803398874989), multiplicity 1\n",
      "[[ 0.31622777 -0.22687248  0.38067653  0.43567718  0.10982479  0.4468003\n",
      "  -0.10858231 -0.398187    0.20358563 -0.31622777]\n",
      " [ 0.31622777 -0.41007286  0.16991071  0.23061487 -0.3784547  -0.15635033\n",
      "  -0.38772227  0.44180469  0.06934421  0.31622777]\n",
      " [ 0.31622777 -0.43663935 -0.10575523 -0.29314935 -0.34372265 -0.35017048\n",
      "   0.34820785 -0.316668   -0.31578692 -0.31622777]\n",
      " [ 0.31622777 -0.29642445 -0.34102626 -0.41179113  0.16602241  0.37276759\n",
      "   0.17251798  0.07057489  0.44160976  0.31622777]\n",
      " [ 0.31622777 -0.04298548 -0.44603686  0.03864843  0.44633015  0.11978744\n",
      "  -0.45482982  0.20247542 -0.39875269 -0.31622777]\n",
      " [ 0.31622777  0.22687248 -0.38067653  0.43567718  0.10982479 -0.4468003\n",
      "   0.10858231 -0.398187    0.20358563  0.31622777]\n",
      " [ 0.31622777  0.41007286 -0.16991071  0.23061487 -0.3784547   0.15635033\n",
      "   0.38772227  0.44180469  0.06934421 -0.31622777]\n",
      " [ 0.31622777  0.43663935  0.10575523 -0.29314935 -0.34372265  0.35017048\n",
      "  -0.34820785 -0.316668   -0.31578692  0.31622777]\n",
      " [ 0.31622777  0.29642445  0.34102626 -0.41179113  0.16602241 -0.37276759\n",
      "  -0.17251798  0.07057489  0.44160976 -0.31622777]\n",
      " [ 0.31622777  0.04298548  0.44603686  0.03864843  0.44633015 -0.11978744\n",
      "   0.45482982  0.20247542 -0.39875269  0.31622777]]\n"
     ]
    }
   ],
   "source": [
    "ei_vec_matrix = []\n",
    "ei_val_matrix = []\n",
    "for eigenval, multiplicity, vectors in eig:\n",
    "    print(f'Eigenvalue {eigenval.evalf()} ({eigenval}), multiplicity {multiplicity}')\n",
    "    ei_vec_matrix.append(list(vectors[0]))\n",
    "    ei_val_matrix.append(eigenval)\n",
    "\n",
    "ei_vec_matrix = np.array(ei_vec_matrix, dtype=np.float64).T\n",
    "ei_val_matrix = np.array(ei_val_matrix, dtype=np.float64)\n",
    "idx = ei_val_matrix.argsort()[::1] # Sorting matrix and vector by ascending order\n",
    "ei_val_matrix = ei_val_matrix[idx]\n",
    "ei_vec_matrix = ei_vec_matrix[:, idx]\n",
    "\n",
    "print(ei_vec_matrix)"
   ],
   "metadata": {
    "collapsed": false,
    "pycharm": {
     "name": "#%%\n"
    }
   }
  },
  {
   "cell_type": "code",
   "execution_count": 22,
   "outputs": [
    {
     "name": "stdout",
     "output_type": "stream",
     "text": [
      "   +0.909682     +0.127064     -0.139127     +0.085879     -0.053083     +0.094070     -0.132851     +0.131798     -0.084621     +0.061189\n",
      "   +0.127064     +0.868215     +0.081502     -0.057554     +0.101260     -0.132851     +0.124608     -0.080151     +0.065566     -0.097659\n",
      "   -0.139127     +0.081502     +0.949788     +0.096883     -0.137322     +0.131798     -0.080151     +0.058376     -0.093189     +0.131441\n",
      "   +0.085879     -0.057554     +0.096883     +0.870020     +0.127421     -0.084621     +0.065566     -0.093189     +0.124251     -0.134656\n",
      "   -0.053083     +0.101260     -0.137322     +0.127421     +0.922720     +0.061189     -0.097659     +0.131441     -0.134656     +0.078688\n",
      "   +0.094070     -0.132851     +0.131798     -0.084621     +0.061189     +0.909682     +0.127064     -0.139127     +0.085879     -0.053083\n",
      "   -0.132851     +0.124608     -0.080151     +0.065566     -0.097659     +0.127064     +0.868215     +0.081502     -0.057554     +0.101260\n",
      "   +0.131798     -0.080151     +0.058376     -0.093189     +0.131441     -0.139127     +0.081502     +0.949788     +0.096883     -0.137322\n",
      "   -0.084621     +0.065566     -0.093189     +0.124251     -0.134656     +0.085879     -0.057554     +0.096883     +0.870020     +0.127421\n",
      "   +0.061189     -0.097659     +0.131441     -0.134656     +0.078688     -0.053083     +0.101260     -0.137322     +0.127421     +0.922720\n"
     ]
    }
   ],
   "source": [
    "print_matrix(calculate_gamma(ei_vec_matrix))\n",
    "# Matrix library has the same problem"
   ],
   "metadata": {
    "collapsed": false,
    "pycharm": {
     "name": "#%%\n"
    }
   }
  },
  {
   "cell_type": "markdown",
   "source": [
    "# I GAVE UP!!!!\n",
    "trying to transform and calculate eigenvectors with lapack!"
   ],
   "metadata": {
    "collapsed": false,
    "pycharm": {
     "name": "#%% md\n"
    }
   }
  },
  {
   "cell_type": "code",
   "execution_count": 23,
   "outputs": [],
   "source": [
    "conn = open('temp_size.dat', 'w')\n",
    "conn.write(str(int(obj.h.shape[0])))\n",
    "conn.close()\n",
    "np.savetxt('temp_matrix.dat', obj.h)"
   ],
   "metadata": {
    "collapsed": false,
    "pycharm": {
     "name": "#%%\n"
    }
   }
  },
  {
   "cell_type": "code",
   "execution_count": 24,
   "outputs": [
    {
     "data": {
      "text/plain": "CompletedProcess(args=['calculate_eigenvectors.exe'], returncode=0)"
     },
     "execution_count": 24,
     "metadata": {},
     "output_type": "execute_result"
    }
   ],
   "source": [
    "obj.h.shape[0]\n",
    "import subprocess\n",
    "import os\n",
    "if not os.path.isfile('calculate_eigenvectors.exe'):\n",
    "    subprocess.run(['gfortran', 'Calculate_eigenvectors.f90', 'diagmat.f90', 'liblapack.dll', 'libblas.dll', '-o',\n",
    "                    'calculate_eigenvectors'])\n",
    "subprocess.run(['calculate_eigenvectors.exe'])"
   ],
   "metadata": {
    "collapsed": false,
    "pycharm": {
     "name": "#%%\n"
    }
   }
  },
  {
   "cell_type": "code",
   "execution_count": 25,
   "outputs": [
    {
     "name": "stdout",
     "output_type": "stream",
     "text": [
      "   +0.900000     +0.100000     -0.100000     +0.100000     -0.100000     +0.100000     -0.100000     +0.100000     -0.100000     +0.100000\n",
      "   +0.100000     +0.900000     +0.100000     -0.100000     +0.100000     -0.100000     +0.100000     -0.100000     +0.100000     -0.100000\n",
      "   -0.100000     +0.100000     +0.900000     +0.100000     -0.100000     +0.100000     -0.100000     +0.100000     -0.100000     +0.100000\n",
      "   +0.100000     -0.100000     +0.100000     +0.900000     +0.100000     -0.100000     +0.100000     -0.100000     +0.100000     -0.100000\n",
      "   -0.100000     +0.100000     -0.100000     +0.100000     +0.900000     +0.100000     -0.100000     +0.100000     -0.100000     +0.100000\n",
      "   +0.100000     -0.100000     +0.100000     -0.100000     +0.100000     +0.900000     +0.100000     -0.100000     +0.100000     -0.100000\n",
      "   -0.100000     +0.100000     -0.100000     +0.100000     -0.100000     +0.100000     +0.900000     +0.100000     -0.100000     +0.100000\n",
      "   +0.100000     -0.100000     +0.100000     -0.100000     +0.100000     -0.100000     +0.100000     +0.900000     +0.100000     -0.100000\n",
      "   -0.100000     +0.100000     -0.100000     +0.100000     -0.100000     +0.100000     -0.100000     +0.100000     +0.900000     +0.100000\n",
      "   +0.100000     -0.100000     +0.100000     -0.100000     +0.100000     -0.100000     +0.100000     -0.100000     +0.100000     +0.900000\n"
     ]
    }
   ],
   "source": [
    "ei_vec = np.loadtxt('temp_ei_vec.dat')\n",
    "ei_val = np.loadtxt('temp_ei_val.dat')\n",
    "\n",
    "print_matrix(calculate_gamma(ei_vec))"
   ],
   "metadata": {
    "collapsed": false,
    "pycharm": {
     "name": "#%%\n"
    }
   }
  },
  {
   "cell_type": "code",
   "execution_count": 26,
   "outputs": [
    {
     "name": "stdout",
     "output_type": "stream",
     "text": [
      "calculation with Ns=10, Ne=10, density=1.0\n"
     ]
    }
   ],
   "source": [
    "obj = single_shot.Householder(10, 10, 8)\n",
    "obj.calculate_one()"
   ],
   "metadata": {
    "collapsed": false,
    "pycharm": {
     "name": "#%%\n"
    }
   }
  },
  {
   "cell_type": "code",
   "execution_count": 42,
   "outputs": [],
   "source": [
    "mat1 = np.array(\n",
    "    [[1, 0, 0],\n",
    "     [0, 1, 0],\n",
    "     [0, 0, 1]]\n",
    ")\n",
    "\n",
    "mat2 = np.array(\n",
    "    [[0, 1, 1],\n",
    "     [1, 0, 1],\n",
    "     [1, 1, 0]]\n",
    ")"
   ],
   "metadata": {
    "collapsed": false,
    "pycharm": {
     "name": "#%%\n"
    }
   }
  },
  {
   "cell_type": "code",
   "execution_count": 43,
   "outputs": [],
   "source": [
    "a, e = np.linalg.eig(mat2)"
   ],
   "metadata": {
    "collapsed": false,
    "pycharm": {
     "name": "#%%\n"
    }
   }
  },
  {
   "cell_type": "code",
   "execution_count": 50,
   "outputs": [
    {
     "data": {
      "text/plain": "array([-1.,  2., -1.])"
     },
     "execution_count": 50,
     "metadata": {},
     "output_type": "execute_result"
    }
   ],
   "source": [
    "a"
   ],
   "metadata": {
    "collapsed": false,
    "pycharm": {
     "name": "#%%\n"
    }
   }
  },
  {
   "cell_type": "code",
   "execution_count": 45,
   "outputs": [
    {
     "data": {
      "text/plain": "array([[-0.81649658,  0.57735027,  0.22645541],\n       [ 0.40824829,  0.57735027, -0.79259392],\n       [ 0.40824829,  0.57735027,  0.56613852]])"
     },
     "execution_count": 45,
     "metadata": {},
     "output_type": "execute_result"
    }
   ],
   "source": [
    "e\n"
   ],
   "metadata": {
    "collapsed": false,
    "pycharm": {
     "name": "#%%\n"
    }
   }
  },
  {
   "cell_type": "code",
   "execution_count": 48,
   "outputs": [
    {
     "data": {
      "text/plain": "array([0., 0., 0.])"
     },
     "execution_count": 48,
     "metadata": {},
     "output_type": "execute_result"
    }
   ],
   "source": [
    "c = (e[:,0] + e[:,2])/np.sqrt(2)\n",
    "mat2 @ c + c"
   ],
   "metadata": {
    "collapsed": false,
    "pycharm": {
     "name": "#%%\n"
    }
   }
  },
  {
   "cell_type": "code",
   "execution_count": 49,
   "outputs": [
    {
     "data": {
      "text/plain": "-0.27735009811261446"
     },
     "execution_count": 49,
     "metadata": {},
     "output_type": "execute_result"
    }
   ],
   "source": [
    "np.dot(e[:,0], e[:,2])"
   ],
   "metadata": {
    "collapsed": false,
    "pycharm": {
     "name": "#%%\n"
    }
   }
  },
  {
   "cell_type": "code",
   "execution_count": 54,
   "outputs": [
    {
     "data": {
      "text/plain": "array([-1., -1.,  2.])"
     },
     "execution_count": 54,
     "metadata": {},
     "output_type": "execute_result"
    }
   ],
   "source": [
    "a2, e2 =np.linalg.eigh(mat2, UPLO='U')\n",
    "a2"
   ],
   "metadata": {
    "collapsed": false,
    "pycharm": {
     "name": "#%%\n"
    }
   }
  },
  {
   "cell_type": "code",
   "execution_count": 55,
   "outputs": [
    {
     "data": {
      "text/plain": "array([[-0.71523999,  0.39382538,  0.57735027],\n       [ 0.01655721, -0.81632869,  0.57735027],\n       [ 0.69868277,  0.42250331,  0.57735027]])"
     },
     "execution_count": 55,
     "metadata": {},
     "output_type": "execute_result"
    }
   ],
   "source": [
    "e2"
   ],
   "metadata": {
    "collapsed": false,
    "pycharm": {
     "name": "#%%\n"
    }
   }
  },
  {
   "cell_type": "code",
   "execution_count": 57,
   "outputs": [
    {
     "data": {
      "text/plain": "-1.3877787807814457e-16"
     },
     "execution_count": 57,
     "metadata": {},
     "output_type": "execute_result"
    }
   ],
   "source": [
    "np.dot(e2[:,0], e2[:,1])"
   ],
   "metadata": {
    "collapsed": false,
    "pycharm": {
     "name": "#%%\n"
    }
   }
  },
  {
   "cell_type": "code",
   "execution_count": 61,
   "outputs": [],
   "source": [
    "??np.linalg.eigh\n"
   ],
   "metadata": {
    "collapsed": false,
    "pycharm": {
     "name": "#%%\n"
    }
   }
  }
 ],
 "metadata": {
  "kernelspec": {
   "display_name": "Python 3",
   "language": "python",
   "name": "python3"
  },
  "language_info": {
   "codemirror_mode": {
    "name": "ipython",
    "version": 2
   },
   "file_extension": ".py",
   "mimetype": "text/x-python",
   "name": "python",
   "nbconvert_exporter": "python",
   "pygments_lexer": "ipython2",
   "version": "2.7.6"
  }
 },
 "nbformat": 4,
 "nbformat_minor": 0
}