{
 "cells": [
  {
   "cell_type": "code",
   "execution_count": 1,
   "metadata": {
    "collapsed": true
   },
   "outputs": [],
   "source": [
    "import main\n",
    "from main import calculate_many_conditions, Householder\n",
    "main.OUTPUT_SEPARATOR = \"  \""
   ]
  },
  {
   "cell_type": "code",
   "execution_count": null,
   "outputs": [],
   "source": [
    "calculate_many_conditions(10, 8)"
   ],
   "metadata": {
    "collapsed": false,
    "pycharm": {
     "name": "#%%\n"
    }
   }
  },
  {
   "cell_type": "code",
   "execution_count": null,
   "outputs": [],
   "source": [
    "calculate_many_conditions(100, 8)"
   ],
   "metadata": {
    "collapsed": false,
    "pycharm": {
     "name": "#%%\n"
    }
   }
  },
  {
   "cell_type": "code",
   "execution_count": 2,
   "outputs": [
    {
     "name": "stdout",
     "output_type": "stream",
     "text": [
      "PERIODIC\n"
     ]
    }
   ],
   "source": [
    "obj = Householder(10, 18, 8, debug=True)\n",
    "obj.calculate_one()"
   ],
   "metadata": {
    "collapsed": false,
    "pycharm": {
     "name": "#%%\n"
    }
   }
  },
  {
   "cell_type": "markdown",
   "source": [
    "Scipy didn't help\n",
    "- Only thing that changed were complex eigenvalues\n",
    "- From the internet I couldn't find anything usefule\n",
    "   - except https://www.sympy.org/en/index.html but this is python based library so probably slow!\n",
    "- Maybe calling LAPACK from python\n",
    "    - https://www.matecdev.com/posts/fortran-in-python.html\n",
    "    - https://stackoverflow.com/questions/18192633/call-lapack-drivers-functions-from-python"
   ],
   "metadata": {
    "collapsed": false,
    "pycharm": {
     "name": "#%% md\n"
    }
   }
  }
 ],
 "metadata": {
  "kernelspec": {
   "name": "pycharm-3827718c",
   "language": "python",
   "display_name": "PyCharm (Single_shot)"
  },
  "language_info": {
   "codemirror_mode": {
    "name": "ipython",
    "version": 2
   },
   "file_extension": ".py",
   "mimetype": "text/x-python",
   "name": "python",
   "nbconvert_exporter": "python",
   "pygments_lexer": "ipython2",
   "version": "2.7.6"
  }
 },
 "nbformat": 4,
 "nbformat_minor": 0
}